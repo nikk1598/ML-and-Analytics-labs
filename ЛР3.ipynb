{
  "nbformat": 4,
  "nbformat_minor": 0,
  "metadata": {
    "colab": {
      "provenance": []
    },
    "kernelspec": {
      "name": "python3",
      "display_name": "Python 3"
    },
    "language_info": {
      "name": "python"
    }
  },
  "cells": [
    {
      "cell_type": "markdown",
      "source": [
        "# Подключение гугл диска"
      ],
      "metadata": {
        "id": "p2dQFhudllEx"
      }
    },
    {
      "cell_type": "code",
      "source": [
        "from google.colab import drive\n",
        "drive.mount('/content/drive')"
      ],
      "metadata": {
        "colab": {
          "base_uri": "https://localhost:8080/"
        },
        "id": "YCzyXWOclbCe",
        "outputId": "a39a01a4-7497-4e8f-8bab-93fea81970cd"
      },
      "execution_count": null,
      "outputs": [
        {
          "output_type": "stream",
          "name": "stdout",
          "text": [
            "Mounted at /content/drive\n"
          ]
        }
      ]
    },
    {
      "cell_type": "markdown",
      "source": [
        "# Импорт библиотек"
      ],
      "metadata": {
        "id": "JtbJayV_e-4Y"
      }
    },
    {
      "cell_type": "code",
      "source": [
        "!pip install catboost\n",
        "!pip install shap\n",
        "\n",
        "import shap\n",
        "import numpy as np\n",
        "import pandas as pd\n",
        "import seaborn as sns\n",
        "from matplotlib import pyplot as plt\n",
        "from matplotlib import rcParams\n",
        "import pandas as pd\n",
        "from catboost import CatBoostRegressor, Pool\n",
        "from sklearn.model_selection import train_test_split, StratifiedKFold\n",
        "from scipy. stats import pearsonr\n",
        "\n",
        "from sklearn.metrics import mean_absolute_error, mean_squared_error, r2_score, mean_squared_log_error"
      ],
      "metadata": {
        "id": "aKzpGPN6ezjS",
        "colab": {
          "base_uri": "https://localhost:8080/"
        },
        "outputId": "d90ff22a-e0e4-495a-e548-4dd2a3d5318a"
      },
      "execution_count": null,
      "outputs": [
        {
          "output_type": "stream",
          "name": "stdout",
          "text": [
            "Looking in indexes: https://pypi.org/simple, https://us-python.pkg.dev/colab-wheels/public/simple/\n",
            "Collecting catboost\n",
            "  Downloading catboost-1.1.1-cp38-none-manylinux1_x86_64.whl (76.6 MB)\n",
            "\u001b[K     |████████████████████████████████| 76.6 MB 1.9 MB/s \n",
            "\u001b[?25hRequirement already satisfied: six in /usr/local/lib/python3.8/dist-packages (from catboost) (1.15.0)\n",
            "Requirement already satisfied: scipy in /usr/local/lib/python3.8/dist-packages (from catboost) (1.7.3)\n",
            "Requirement already satisfied: plotly in /usr/local/lib/python3.8/dist-packages (from catboost) (5.5.0)\n",
            "Requirement already satisfied: numpy>=1.16.0 in /usr/local/lib/python3.8/dist-packages (from catboost) (1.21.6)\n",
            "Requirement already satisfied: pandas>=0.24.0 in /usr/local/lib/python3.8/dist-packages (from catboost) (1.3.5)\n",
            "Requirement already satisfied: graphviz in /usr/local/lib/python3.8/dist-packages (from catboost) (0.10.1)\n",
            "Requirement already satisfied: matplotlib in /usr/local/lib/python3.8/dist-packages (from catboost) (3.2.2)\n",
            "Requirement already satisfied: pytz>=2017.3 in /usr/local/lib/python3.8/dist-packages (from pandas>=0.24.0->catboost) (2022.6)\n",
            "Requirement already satisfied: python-dateutil>=2.7.3 in /usr/local/lib/python3.8/dist-packages (from pandas>=0.24.0->catboost) (2.8.2)\n",
            "Requirement already satisfied: kiwisolver>=1.0.1 in /usr/local/lib/python3.8/dist-packages (from matplotlib->catboost) (1.4.4)\n",
            "Requirement already satisfied: cycler>=0.10 in /usr/local/lib/python3.8/dist-packages (from matplotlib->catboost) (0.11.0)\n",
            "Requirement already satisfied: pyparsing!=2.0.4,!=2.1.2,!=2.1.6,>=2.0.1 in /usr/local/lib/python3.8/dist-packages (from matplotlib->catboost) (3.0.9)\n",
            "Requirement already satisfied: tenacity>=6.2.0 in /usr/local/lib/python3.8/dist-packages (from plotly->catboost) (8.1.0)\n",
            "Installing collected packages: catboost\n",
            "Successfully installed catboost-1.1.1\n",
            "Looking in indexes: https://pypi.org/simple, https://us-python.pkg.dev/colab-wheels/public/simple/\n",
            "Collecting shap\n",
            "  Downloading shap-0.41.0-cp38-cp38-manylinux_2_12_x86_64.manylinux2010_x86_64.whl (575 kB)\n",
            "\u001b[K     |████████████████████████████████| 575 kB 453 kB/s \n",
            "\u001b[?25hRequirement already satisfied: numba in /usr/local/lib/python3.8/dist-packages (from shap) (0.56.4)\n",
            "Requirement already satisfied: numpy in /usr/local/lib/python3.8/dist-packages (from shap) (1.21.6)\n",
            "Requirement already satisfied: scipy in /usr/local/lib/python3.8/dist-packages (from shap) (1.7.3)\n",
            "Requirement already satisfied: packaging>20.9 in /usr/local/lib/python3.8/dist-packages (from shap) (21.3)\n",
            "Requirement already satisfied: cloudpickle in /usr/local/lib/python3.8/dist-packages (from shap) (1.5.0)\n",
            "Requirement already satisfied: pandas in /usr/local/lib/python3.8/dist-packages (from shap) (1.3.5)\n",
            "Requirement already satisfied: tqdm>4.25.0 in /usr/local/lib/python3.8/dist-packages (from shap) (4.64.1)\n",
            "Collecting slicer==0.0.7\n",
            "  Downloading slicer-0.0.7-py3-none-any.whl (14 kB)\n",
            "Requirement already satisfied: scikit-learn in /usr/local/lib/python3.8/dist-packages (from shap) (1.0.2)\n",
            "Requirement already satisfied: pyparsing!=3.0.5,>=2.0.2 in /usr/local/lib/python3.8/dist-packages (from packaging>20.9->shap) (3.0.9)\n",
            "Requirement already satisfied: setuptools in /usr/local/lib/python3.8/dist-packages (from numba->shap) (57.4.0)\n",
            "Requirement already satisfied: llvmlite<0.40,>=0.39.0dev0 in /usr/local/lib/python3.8/dist-packages (from numba->shap) (0.39.1)\n",
            "Requirement already satisfied: importlib-metadata in /usr/local/lib/python3.8/dist-packages (from numba->shap) (5.1.0)\n",
            "Requirement already satisfied: zipp>=0.5 in /usr/local/lib/python3.8/dist-packages (from importlib-metadata->numba->shap) (3.11.0)\n",
            "Requirement already satisfied: python-dateutil>=2.7.3 in /usr/local/lib/python3.8/dist-packages (from pandas->shap) (2.8.2)\n",
            "Requirement already satisfied: pytz>=2017.3 in /usr/local/lib/python3.8/dist-packages (from pandas->shap) (2022.6)\n",
            "Requirement already satisfied: six>=1.5 in /usr/local/lib/python3.8/dist-packages (from python-dateutil>=2.7.3->pandas->shap) (1.15.0)\n",
            "Requirement already satisfied: joblib>=0.11 in /usr/local/lib/python3.8/dist-packages (from scikit-learn->shap) (1.2.0)\n",
            "Requirement already satisfied: threadpoolctl>=2.0.0 in /usr/local/lib/python3.8/dist-packages (from scikit-learn->shap) (3.1.0)\n",
            "Installing collected packages: slicer, shap\n",
            "Successfully installed shap-0.41.0 slicer-0.0.7\n"
          ]
        }
      ]
    },
    {
      "cell_type": "markdown",
      "source": [
        "# Загрузка данных"
      ],
      "metadata": {
        "id": "nZmkFQqQi11L"
      }
    },
    {
      "cell_type": "code",
      "metadata": {
        "colab": {
          "base_uri": "https://localhost:8080/",
          "height": 206
        },
        "outputId": "86ca48db-13ce-4761-c081-16ec87bec549",
        "id": "HXV_hOdjWTxa"
      },
      "source": [
        "# Чтобы выполнить загрузку, нужно положить данные на свой гугл диск\n",
        "data = pd.read_csv('/content/drive/MyDrive/data.csv', sep=',')\n",
        "data.head()"
      ],
      "execution_count": null,
      "outputs": [
        {
          "output_type": "execute_result",
          "data": {
            "text/plain": [
              "   children  days_employed  dob_years education  education_id  \\\n",
              "0         1   -8437.673028         42    высшее             0   \n",
              "1         1   -4024.803754         36   среднее             1   \n",
              "2         0   -5623.422610         33   Среднее             1   \n",
              "3         3   -4124.747207         32   среднее             1   \n",
              "4         0  340266.072047         53   среднее             1   \n",
              "\n",
              "      family_status  family_status_id gender income_type  debt   total_income  \\\n",
              "0   женат / замужем                 0      F   сотрудник     0  253875.639453   \n",
              "1   женат / замужем                 0      F   сотрудник     0  112080.014102   \n",
              "2   женат / замужем                 0      M   сотрудник     0  145885.952297   \n",
              "3   женат / замужем                 0      M   сотрудник     0  267628.550329   \n",
              "4  гражданский брак                 1      F   пенсионер     0  158616.077870   \n",
              "\n",
              "                      purpose  \n",
              "0               покупка жилья  \n",
              "1     приобретение автомобиля  \n",
              "2               покупка жилья  \n",
              "3  дополнительное образование  \n",
              "4             сыграть свадьбу  "
            ],
            "text/html": [
              "\n",
              "  <div id=\"df-2f818f22-1678-4a72-a9db-5fc5ddf636e9\">\n",
              "    <div class=\"colab-df-container\">\n",
              "      <div>\n",
              "<style scoped>\n",
              "    .dataframe tbody tr th:only-of-type {\n",
              "        vertical-align: middle;\n",
              "    }\n",
              "\n",
              "    .dataframe tbody tr th {\n",
              "        vertical-align: top;\n",
              "    }\n",
              "\n",
              "    .dataframe thead th {\n",
              "        text-align: right;\n",
              "    }\n",
              "</style>\n",
              "<table border=\"1\" class=\"dataframe\">\n",
              "  <thead>\n",
              "    <tr style=\"text-align: right;\">\n",
              "      <th></th>\n",
              "      <th>children</th>\n",
              "      <th>days_employed</th>\n",
              "      <th>dob_years</th>\n",
              "      <th>education</th>\n",
              "      <th>education_id</th>\n",
              "      <th>family_status</th>\n",
              "      <th>family_status_id</th>\n",
              "      <th>gender</th>\n",
              "      <th>income_type</th>\n",
              "      <th>debt</th>\n",
              "      <th>total_income</th>\n",
              "      <th>purpose</th>\n",
              "    </tr>\n",
              "  </thead>\n",
              "  <tbody>\n",
              "    <tr>\n",
              "      <th>0</th>\n",
              "      <td>1</td>\n",
              "      <td>-8437.673028</td>\n",
              "      <td>42</td>\n",
              "      <td>высшее</td>\n",
              "      <td>0</td>\n",
              "      <td>женат / замужем</td>\n",
              "      <td>0</td>\n",
              "      <td>F</td>\n",
              "      <td>сотрудник</td>\n",
              "      <td>0</td>\n",
              "      <td>253875.639453</td>\n",
              "      <td>покупка жилья</td>\n",
              "    </tr>\n",
              "    <tr>\n",
              "      <th>1</th>\n",
              "      <td>1</td>\n",
              "      <td>-4024.803754</td>\n",
              "      <td>36</td>\n",
              "      <td>среднее</td>\n",
              "      <td>1</td>\n",
              "      <td>женат / замужем</td>\n",
              "      <td>0</td>\n",
              "      <td>F</td>\n",
              "      <td>сотрудник</td>\n",
              "      <td>0</td>\n",
              "      <td>112080.014102</td>\n",
              "      <td>приобретение автомобиля</td>\n",
              "    </tr>\n",
              "    <tr>\n",
              "      <th>2</th>\n",
              "      <td>0</td>\n",
              "      <td>-5623.422610</td>\n",
              "      <td>33</td>\n",
              "      <td>Среднее</td>\n",
              "      <td>1</td>\n",
              "      <td>женат / замужем</td>\n",
              "      <td>0</td>\n",
              "      <td>M</td>\n",
              "      <td>сотрудник</td>\n",
              "      <td>0</td>\n",
              "      <td>145885.952297</td>\n",
              "      <td>покупка жилья</td>\n",
              "    </tr>\n",
              "    <tr>\n",
              "      <th>3</th>\n",
              "      <td>3</td>\n",
              "      <td>-4124.747207</td>\n",
              "      <td>32</td>\n",
              "      <td>среднее</td>\n",
              "      <td>1</td>\n",
              "      <td>женат / замужем</td>\n",
              "      <td>0</td>\n",
              "      <td>M</td>\n",
              "      <td>сотрудник</td>\n",
              "      <td>0</td>\n",
              "      <td>267628.550329</td>\n",
              "      <td>дополнительное образование</td>\n",
              "    </tr>\n",
              "    <tr>\n",
              "      <th>4</th>\n",
              "      <td>0</td>\n",
              "      <td>340266.072047</td>\n",
              "      <td>53</td>\n",
              "      <td>среднее</td>\n",
              "      <td>1</td>\n",
              "      <td>гражданский брак</td>\n",
              "      <td>1</td>\n",
              "      <td>F</td>\n",
              "      <td>пенсионер</td>\n",
              "      <td>0</td>\n",
              "      <td>158616.077870</td>\n",
              "      <td>сыграть свадьбу</td>\n",
              "    </tr>\n",
              "  </tbody>\n",
              "</table>\n",
              "</div>\n",
              "      <button class=\"colab-df-convert\" onclick=\"convertToInteractive('df-2f818f22-1678-4a72-a9db-5fc5ddf636e9')\"\n",
              "              title=\"Convert this dataframe to an interactive table.\"\n",
              "              style=\"display:none;\">\n",
              "        \n",
              "  <svg xmlns=\"http://www.w3.org/2000/svg\" height=\"24px\"viewBox=\"0 0 24 24\"\n",
              "       width=\"24px\">\n",
              "    <path d=\"M0 0h24v24H0V0z\" fill=\"none\"/>\n",
              "    <path d=\"M18.56 5.44l.94 2.06.94-2.06 2.06-.94-2.06-.94-.94-2.06-.94 2.06-2.06.94zm-11 1L8.5 8.5l.94-2.06 2.06-.94-2.06-.94L8.5 2.5l-.94 2.06-2.06.94zm10 10l.94 2.06.94-2.06 2.06-.94-2.06-.94-.94-2.06-.94 2.06-2.06.94z\"/><path d=\"M17.41 7.96l-1.37-1.37c-.4-.4-.92-.59-1.43-.59-.52 0-1.04.2-1.43.59L10.3 9.45l-7.72 7.72c-.78.78-.78 2.05 0 2.83L4 21.41c.39.39.9.59 1.41.59.51 0 1.02-.2 1.41-.59l7.78-7.78 2.81-2.81c.8-.78.8-2.07 0-2.86zM5.41 20L4 18.59l7.72-7.72 1.47 1.35L5.41 20z\"/>\n",
              "  </svg>\n",
              "      </button>\n",
              "      \n",
              "  <style>\n",
              "    .colab-df-container {\n",
              "      display:flex;\n",
              "      flex-wrap:wrap;\n",
              "      gap: 12px;\n",
              "    }\n",
              "\n",
              "    .colab-df-convert {\n",
              "      background-color: #E8F0FE;\n",
              "      border: none;\n",
              "      border-radius: 50%;\n",
              "      cursor: pointer;\n",
              "      display: none;\n",
              "      fill: #1967D2;\n",
              "      height: 32px;\n",
              "      padding: 0 0 0 0;\n",
              "      width: 32px;\n",
              "    }\n",
              "\n",
              "    .colab-df-convert:hover {\n",
              "      background-color: #E2EBFA;\n",
              "      box-shadow: 0px 1px 2px rgba(60, 64, 67, 0.3), 0px 1px 3px 1px rgba(60, 64, 67, 0.15);\n",
              "      fill: #174EA6;\n",
              "    }\n",
              "\n",
              "    [theme=dark] .colab-df-convert {\n",
              "      background-color: #3B4455;\n",
              "      fill: #D2E3FC;\n",
              "    }\n",
              "\n",
              "    [theme=dark] .colab-df-convert:hover {\n",
              "      background-color: #434B5C;\n",
              "      box-shadow: 0px 1px 3px 1px rgba(0, 0, 0, 0.15);\n",
              "      filter: drop-shadow(0px 1px 2px rgba(0, 0, 0, 0.3));\n",
              "      fill: #FFFFFF;\n",
              "    }\n",
              "  </style>\n",
              "\n",
              "      <script>\n",
              "        const buttonEl =\n",
              "          document.querySelector('#df-2f818f22-1678-4a72-a9db-5fc5ddf636e9 button.colab-df-convert');\n",
              "        buttonEl.style.display =\n",
              "          google.colab.kernel.accessAllowed ? 'block' : 'none';\n",
              "\n",
              "        async function convertToInteractive(key) {\n",
              "          const element = document.querySelector('#df-2f818f22-1678-4a72-a9db-5fc5ddf636e9');\n",
              "          const dataTable =\n",
              "            await google.colab.kernel.invokeFunction('convertToInteractive',\n",
              "                                                     [key], {});\n",
              "          if (!dataTable) return;\n",
              "\n",
              "          const docLinkHtml = 'Like what you see? Visit the ' +\n",
              "            '<a target=\"_blank\" href=https://colab.research.google.com/notebooks/data_table.ipynb>data table notebook</a>'\n",
              "            + ' to learn more about interactive tables.';\n",
              "          element.innerHTML = '';\n",
              "          dataTable['output_type'] = 'display_data';\n",
              "          await google.colab.output.renderOutput(dataTable, element);\n",
              "          const docLink = document.createElement('div');\n",
              "          docLink.innerHTML = docLinkHtml;\n",
              "          element.appendChild(docLink);\n",
              "        }\n",
              "      </script>\n",
              "    </div>\n",
              "  </div>\n",
              "  "
            ]
          },
          "metadata": {},
          "execution_count": 4
        }
      ]
    },
    {
      "cell_type": "markdown",
      "source": [
        "Описание:\n",
        "\n",
        "children — количество детей в семье\n",
        "\n",
        "days_employed — общий трудовой стаж в днях\n",
        "\n",
        "dob_years — возраст клиента в годах\n",
        "\n",
        "education — уровень образования клиента\n",
        "\n",
        "education_id — идентификатор уровня образования\n",
        "\n",
        "family_status — семейное положение\n",
        "\n",
        "family_status_id — идентификатор семейного положения\n",
        "\n",
        "gender — пол клиента\n",
        "\n",
        "income_type — тип занятости\n",
        "\n",
        "debt — имел ли задолженность по возврату кредитов\n",
        "\n",
        "total_income — ежемесячный доход\n",
        "\n",
        "purpose — цель получения кредита"
      ],
      "metadata": {
        "id": "ADzQnokVi1Yz"
      }
    },
    {
      "cell_type": "markdown",
      "source": [
        "# Предобработка"
      ],
      "metadata": {
        "id": "hTrjGPFYpI4S"
      }
    },
    {
      "cell_type": "markdown",
      "source": [
        "## Пропуски"
      ],
      "metadata": {
        "id": "iUYONI59pp0_"
      }
    },
    {
      "cell_type": "markdown",
      "source": [
        "Выведем полную информацию о датафрейме"
      ],
      "metadata": {
        "id": "mWT1wQTrfjqv"
      }
    },
    {
      "cell_type": "code",
      "source": [
        "data.info()"
      ],
      "metadata": {
        "colab": {
          "base_uri": "https://localhost:8080/"
        },
        "outputId": "110397a5-ad8c-4eed-bcb8-be53029c70c5",
        "id": "EqgHaaUMfjqv"
      },
      "execution_count": null,
      "outputs": [
        {
          "output_type": "stream",
          "name": "stdout",
          "text": [
            "<class 'pandas.core.frame.DataFrame'>\n",
            "RangeIndex: 21525 entries, 0 to 21524\n",
            "Data columns (total 12 columns):\n",
            " #   Column            Non-Null Count  Dtype  \n",
            "---  ------            --------------  -----  \n",
            " 0   children          21525 non-null  int64  \n",
            " 1   days_employed     19351 non-null  float64\n",
            " 2   dob_years         21525 non-null  int64  \n",
            " 3   education         21525 non-null  object \n",
            " 4   education_id      21525 non-null  int64  \n",
            " 5   family_status     21525 non-null  object \n",
            " 6   family_status_id  21525 non-null  int64  \n",
            " 7   gender            21525 non-null  object \n",
            " 8   income_type       21525 non-null  object \n",
            " 9   debt              21525 non-null  int64  \n",
            " 10  total_income      19351 non-null  float64\n",
            " 11  purpose           21525 non-null  object \n",
            "dtypes: float64(2), int64(5), object(5)\n",
            "memory usage: 2.0+ MB\n"
          ]
        }
      ]
    },
    {
      "cell_type": "markdown",
      "source": [
        "Посмотрим на пропущенные значения"
      ],
      "metadata": {
        "id": "e8936nF3fjqw"
      }
    },
    {
      "cell_type": "code",
      "source": [
        "data.isnull().sum()"
      ],
      "metadata": {
        "colab": {
          "base_uri": "https://localhost:8080/"
        },
        "outputId": "8ae4aa75-b1fd-459b-9d88-699fc58d8d68",
        "id": "_WXKI9qufjqw"
      },
      "execution_count": null,
      "outputs": [
        {
          "output_type": "execute_result",
          "data": {
            "text/plain": [
              "children               0\n",
              "days_employed       2174\n",
              "dob_years              0\n",
              "education              0\n",
              "education_id           0\n",
              "family_status          0\n",
              "family_status_id       0\n",
              "gender                 0\n",
              "income_type            0\n",
              "debt                   0\n",
              "total_income        2174\n",
              "purpose                0\n",
              "dtype: int64"
            ]
          },
          "metadata": {},
          "execution_count": 6
        }
      ]
    },
    {
      "cell_type": "markdown",
      "source": [
        "Видим, что пропуски есть в двух столбцах. Трудовой стаж и доход оба имеют тип float, а также могут содержать экстремальные значения, поэтому простым решением будет заполнение медианой"
      ],
      "metadata": {
        "id": "43Z4KYWNsJCH"
      }
    },
    {
      "cell_type": "code",
      "source": [
        "data['days_employed'] = data['days_employed'].fillna(data['days_employed'].median())\n",
        "data['total_income'] = data['total_income'].fillna(data['total_income'].median())"
      ],
      "metadata": {
        "id": "4OQvAPLcfjqw"
      },
      "execution_count": null,
      "outputs": []
    },
    {
      "cell_type": "markdown",
      "source": [
        "Ещё раз посмотрим на таблицу пропусков"
      ],
      "metadata": {
        "id": "Xa2pKZfUfjqz"
      }
    },
    {
      "cell_type": "code",
      "source": [
        "data.isnull().sum()"
      ],
      "metadata": {
        "colab": {
          "base_uri": "https://localhost:8080/"
        },
        "outputId": "d266d3d9-09dc-470e-f414-716024edd13a",
        "id": "__oqCiVCtD4I"
      },
      "execution_count": null,
      "outputs": [
        {
          "output_type": "execute_result",
          "data": {
            "text/plain": [
              "children            0\n",
              "days_employed       0\n",
              "dob_years           0\n",
              "education           0\n",
              "education_id        0\n",
              "family_status       0\n",
              "family_status_id    0\n",
              "gender              0\n",
              "income_type         0\n",
              "debt                0\n",
              "total_income        0\n",
              "purpose             0\n",
              "dtype: int64"
            ]
          },
          "metadata": {},
          "execution_count": 8
        }
      ]
    },
    {
      "cell_type": "markdown",
      "source": [
        "В обоих столбцах число пропусков было равно 2174, значит, вероятно, они как-то связаны. Возможно, эти данные в какой-то период собирались двумя разными способами (первый предполагал наличие этих полей, а второй-нет). Например, часть людей заполняла анкеты в банке, а часть-проходила урезаный онлайн опрос, и соответственно в базе появились пропуски"
      ],
      "metadata": {
        "id": "SrqL3hDEtLwP"
      }
    },
    {
      "cell_type": "markdown",
      "source": [
        "## Преобразование типов"
      ],
      "metadata": {
        "id": "8UTUIG6wfjqz"
      }
    },
    {
      "cell_type": "markdown",
      "source": [
        "Определим метод, который изменяет типы столбцов"
      ],
      "metadata": {
        "id": "b_bYhvpvfjqz"
      }
    },
    {
      "cell_type": "code",
      "source": [
        "def transform_types(data: pd.DataFrame,\n",
        "                    change_type_columns: dict) -> pd.DataFrame:\n",
        "    \"\"\"\n",
        "    Преобразование набора признаков в заданный тип данных\n",
        "    :param data: датасет\n",
        "    :param change_type_columns: словарь с признаками и типами данных\n",
        "    :return: преобразованный датасет\n",
        "    \"\"\"\n",
        "    return data.astype(change_type_columns, errors=\"raise\")"
      ],
      "metadata": {
        "id": "gGmV23Pyfjqz"
      },
      "execution_count": null,
      "outputs": []
    },
    {
      "cell_type": "markdown",
      "source": [
        "Определим словарь с названиями столбцов и типами данных"
      ],
      "metadata": {
        "id": "OgKZ8ilifjqz"
      }
    },
    {
      "cell_type": "code",
      "source": [
        "change_type_columns = {'days_employed': 'int64',\n",
        "                       'total_income': 'int64',\n",
        "                       }"
      ],
      "metadata": {
        "id": "s_EMa5Xqfjqz"
      },
      "execution_count": null,
      "outputs": []
    },
    {
      "cell_type": "markdown",
      "source": [
        "Преобразуем типы"
      ],
      "metadata": {
        "id": "rLZBOow7fjq0"
      }
    },
    {
      "cell_type": "code",
      "source": [
        "data = transform_types(data, change_type_columns)\n",
        "data.info()"
      ],
      "metadata": {
        "colab": {
          "base_uri": "https://localhost:8080/"
        },
        "outputId": "d3dc219b-b105-4a75-9b35-d31be0921d3b",
        "id": "cPbRTlU3fjq0"
      },
      "execution_count": null,
      "outputs": [
        {
          "output_type": "stream",
          "name": "stdout",
          "text": [
            "<class 'pandas.core.frame.DataFrame'>\n",
            "RangeIndex: 21525 entries, 0 to 21524\n",
            "Data columns (total 12 columns):\n",
            " #   Column            Non-Null Count  Dtype \n",
            "---  ------            --------------  ----- \n",
            " 0   children          21525 non-null  int64 \n",
            " 1   days_employed     21525 non-null  int64 \n",
            " 2   dob_years         21525 non-null  int64 \n",
            " 3   education         21525 non-null  object\n",
            " 4   education_id      21525 non-null  int64 \n",
            " 5   family_status     21525 non-null  object\n",
            " 6   family_status_id  21525 non-null  int64 \n",
            " 7   gender            21525 non-null  object\n",
            " 8   income_type       21525 non-null  object\n",
            " 9   debt              21525 non-null  int64 \n",
            " 10  total_income      21525 non-null  int64 \n",
            " 11  purpose           21525 non-null  object\n",
            "dtypes: int64(7), object(5)\n",
            "memory usage: 2.0+ MB\n"
          ]
        }
      ]
    },
    {
      "cell_type": "markdown",
      "source": [
        "Посмотрим на обновлённый датасет"
      ],
      "metadata": {
        "id": "oZH6_Wcd-cb5"
      }
    },
    {
      "cell_type": "code",
      "source": [
        "data"
      ],
      "metadata": {
        "colab": {
          "base_uri": "https://localhost:8080/",
          "height": 424
        },
        "id": "zAzzrboL96IK",
        "outputId": "87638550-fa19-4a9b-9668-9281fd88d886"
      },
      "execution_count": null,
      "outputs": [
        {
          "output_type": "execute_result",
          "data": {
            "text/plain": [
              "       children  days_employed  dob_years education  education_id  \\\n",
              "0             1          -8437         42    высшее             0   \n",
              "1             1          -4024         36   среднее             1   \n",
              "2             0          -5623         33   Среднее             1   \n",
              "3             3          -4124         32   среднее             1   \n",
              "4             0         340266         53   среднее             1   \n",
              "...         ...            ...        ...       ...           ...   \n",
              "21520         1          -4529         43   среднее             1   \n",
              "21521         0         343937         67   среднее             1   \n",
              "21522         1          -2113         38   среднее             1   \n",
              "21523         3          -3112         38   среднее             1   \n",
              "21524         2          -1984         40   среднее             1   \n",
              "\n",
              "          family_status  family_status_id gender income_type  debt  \\\n",
              "0       женат / замужем                 0      F   сотрудник     0   \n",
              "1       женат / замужем                 0      F   сотрудник     0   \n",
              "2       женат / замужем                 0      M   сотрудник     0   \n",
              "3       женат / замужем                 0      M   сотрудник     0   \n",
              "4      гражданский брак                 1      F   пенсионер     0   \n",
              "...                 ...               ...    ...         ...   ...   \n",
              "21520  гражданский брак                 1      F   компаньон     0   \n",
              "21521   женат / замужем                 0      F   пенсионер     0   \n",
              "21522  гражданский брак                 1      M   сотрудник     1   \n",
              "21523   женат / замужем                 0      M   сотрудник     1   \n",
              "21524   женат / замужем                 0      F   сотрудник     0   \n",
              "\n",
              "       total_income                       purpose  \n",
              "0            253875                 покупка жилья  \n",
              "1            112080       приобретение автомобиля  \n",
              "2            145885                 покупка жилья  \n",
              "3            267628    дополнительное образование  \n",
              "4            158616               сыграть свадьбу  \n",
              "...             ...                           ...  \n",
              "21520        224791             операции с жильем  \n",
              "21521        155999          сделка с автомобилем  \n",
              "21522         89672                  недвижимость  \n",
              "21523        244093  на покупку своего автомобиля  \n",
              "21524         82047         на покупку автомобиля  \n",
              "\n",
              "[21525 rows x 12 columns]"
            ],
            "text/html": [
              "\n",
              "  <div id=\"df-58da573f-35f4-4b3b-97b7-05fc8701ead5\">\n",
              "    <div class=\"colab-df-container\">\n",
              "      <div>\n",
              "<style scoped>\n",
              "    .dataframe tbody tr th:only-of-type {\n",
              "        vertical-align: middle;\n",
              "    }\n",
              "\n",
              "    .dataframe tbody tr th {\n",
              "        vertical-align: top;\n",
              "    }\n",
              "\n",
              "    .dataframe thead th {\n",
              "        text-align: right;\n",
              "    }\n",
              "</style>\n",
              "<table border=\"1\" class=\"dataframe\">\n",
              "  <thead>\n",
              "    <tr style=\"text-align: right;\">\n",
              "      <th></th>\n",
              "      <th>children</th>\n",
              "      <th>days_employed</th>\n",
              "      <th>dob_years</th>\n",
              "      <th>education</th>\n",
              "      <th>education_id</th>\n",
              "      <th>family_status</th>\n",
              "      <th>family_status_id</th>\n",
              "      <th>gender</th>\n",
              "      <th>income_type</th>\n",
              "      <th>debt</th>\n",
              "      <th>total_income</th>\n",
              "      <th>purpose</th>\n",
              "    </tr>\n",
              "  </thead>\n",
              "  <tbody>\n",
              "    <tr>\n",
              "      <th>0</th>\n",
              "      <td>1</td>\n",
              "      <td>-8437</td>\n",
              "      <td>42</td>\n",
              "      <td>высшее</td>\n",
              "      <td>0</td>\n",
              "      <td>женат / замужем</td>\n",
              "      <td>0</td>\n",
              "      <td>F</td>\n",
              "      <td>сотрудник</td>\n",
              "      <td>0</td>\n",
              "      <td>253875</td>\n",
              "      <td>покупка жилья</td>\n",
              "    </tr>\n",
              "    <tr>\n",
              "      <th>1</th>\n",
              "      <td>1</td>\n",
              "      <td>-4024</td>\n",
              "      <td>36</td>\n",
              "      <td>среднее</td>\n",
              "      <td>1</td>\n",
              "      <td>женат / замужем</td>\n",
              "      <td>0</td>\n",
              "      <td>F</td>\n",
              "      <td>сотрудник</td>\n",
              "      <td>0</td>\n",
              "      <td>112080</td>\n",
              "      <td>приобретение автомобиля</td>\n",
              "    </tr>\n",
              "    <tr>\n",
              "      <th>2</th>\n",
              "      <td>0</td>\n",
              "      <td>-5623</td>\n",
              "      <td>33</td>\n",
              "      <td>Среднее</td>\n",
              "      <td>1</td>\n",
              "      <td>женат / замужем</td>\n",
              "      <td>0</td>\n",
              "      <td>M</td>\n",
              "      <td>сотрудник</td>\n",
              "      <td>0</td>\n",
              "      <td>145885</td>\n",
              "      <td>покупка жилья</td>\n",
              "    </tr>\n",
              "    <tr>\n",
              "      <th>3</th>\n",
              "      <td>3</td>\n",
              "      <td>-4124</td>\n",
              "      <td>32</td>\n",
              "      <td>среднее</td>\n",
              "      <td>1</td>\n",
              "      <td>женат / замужем</td>\n",
              "      <td>0</td>\n",
              "      <td>M</td>\n",
              "      <td>сотрудник</td>\n",
              "      <td>0</td>\n",
              "      <td>267628</td>\n",
              "      <td>дополнительное образование</td>\n",
              "    </tr>\n",
              "    <tr>\n",
              "      <th>4</th>\n",
              "      <td>0</td>\n",
              "      <td>340266</td>\n",
              "      <td>53</td>\n",
              "      <td>среднее</td>\n",
              "      <td>1</td>\n",
              "      <td>гражданский брак</td>\n",
              "      <td>1</td>\n",
              "      <td>F</td>\n",
              "      <td>пенсионер</td>\n",
              "      <td>0</td>\n",
              "      <td>158616</td>\n",
              "      <td>сыграть свадьбу</td>\n",
              "    </tr>\n",
              "    <tr>\n",
              "      <th>...</th>\n",
              "      <td>...</td>\n",
              "      <td>...</td>\n",
              "      <td>...</td>\n",
              "      <td>...</td>\n",
              "      <td>...</td>\n",
              "      <td>...</td>\n",
              "      <td>...</td>\n",
              "      <td>...</td>\n",
              "      <td>...</td>\n",
              "      <td>...</td>\n",
              "      <td>...</td>\n",
              "      <td>...</td>\n",
              "    </tr>\n",
              "    <tr>\n",
              "      <th>21520</th>\n",
              "      <td>1</td>\n",
              "      <td>-4529</td>\n",
              "      <td>43</td>\n",
              "      <td>среднее</td>\n",
              "      <td>1</td>\n",
              "      <td>гражданский брак</td>\n",
              "      <td>1</td>\n",
              "      <td>F</td>\n",
              "      <td>компаньон</td>\n",
              "      <td>0</td>\n",
              "      <td>224791</td>\n",
              "      <td>операции с жильем</td>\n",
              "    </tr>\n",
              "    <tr>\n",
              "      <th>21521</th>\n",
              "      <td>0</td>\n",
              "      <td>343937</td>\n",
              "      <td>67</td>\n",
              "      <td>среднее</td>\n",
              "      <td>1</td>\n",
              "      <td>женат / замужем</td>\n",
              "      <td>0</td>\n",
              "      <td>F</td>\n",
              "      <td>пенсионер</td>\n",
              "      <td>0</td>\n",
              "      <td>155999</td>\n",
              "      <td>сделка с автомобилем</td>\n",
              "    </tr>\n",
              "    <tr>\n",
              "      <th>21522</th>\n",
              "      <td>1</td>\n",
              "      <td>-2113</td>\n",
              "      <td>38</td>\n",
              "      <td>среднее</td>\n",
              "      <td>1</td>\n",
              "      <td>гражданский брак</td>\n",
              "      <td>1</td>\n",
              "      <td>M</td>\n",
              "      <td>сотрудник</td>\n",
              "      <td>1</td>\n",
              "      <td>89672</td>\n",
              "      <td>недвижимость</td>\n",
              "    </tr>\n",
              "    <tr>\n",
              "      <th>21523</th>\n",
              "      <td>3</td>\n",
              "      <td>-3112</td>\n",
              "      <td>38</td>\n",
              "      <td>среднее</td>\n",
              "      <td>1</td>\n",
              "      <td>женат / замужем</td>\n",
              "      <td>0</td>\n",
              "      <td>M</td>\n",
              "      <td>сотрудник</td>\n",
              "      <td>1</td>\n",
              "      <td>244093</td>\n",
              "      <td>на покупку своего автомобиля</td>\n",
              "    </tr>\n",
              "    <tr>\n",
              "      <th>21524</th>\n",
              "      <td>2</td>\n",
              "      <td>-1984</td>\n",
              "      <td>40</td>\n",
              "      <td>среднее</td>\n",
              "      <td>1</td>\n",
              "      <td>женат / замужем</td>\n",
              "      <td>0</td>\n",
              "      <td>F</td>\n",
              "      <td>сотрудник</td>\n",
              "      <td>0</td>\n",
              "      <td>82047</td>\n",
              "      <td>на покупку автомобиля</td>\n",
              "    </tr>\n",
              "  </tbody>\n",
              "</table>\n",
              "<p>21525 rows × 12 columns</p>\n",
              "</div>\n",
              "      <button class=\"colab-df-convert\" onclick=\"convertToInteractive('df-58da573f-35f4-4b3b-97b7-05fc8701ead5')\"\n",
              "              title=\"Convert this dataframe to an interactive table.\"\n",
              "              style=\"display:none;\">\n",
              "        \n",
              "  <svg xmlns=\"http://www.w3.org/2000/svg\" height=\"24px\"viewBox=\"0 0 24 24\"\n",
              "       width=\"24px\">\n",
              "    <path d=\"M0 0h24v24H0V0z\" fill=\"none\"/>\n",
              "    <path d=\"M18.56 5.44l.94 2.06.94-2.06 2.06-.94-2.06-.94-.94-2.06-.94 2.06-2.06.94zm-11 1L8.5 8.5l.94-2.06 2.06-.94-2.06-.94L8.5 2.5l-.94 2.06-2.06.94zm10 10l.94 2.06.94-2.06 2.06-.94-2.06-.94-.94-2.06-.94 2.06-2.06.94z\"/><path d=\"M17.41 7.96l-1.37-1.37c-.4-.4-.92-.59-1.43-.59-.52 0-1.04.2-1.43.59L10.3 9.45l-7.72 7.72c-.78.78-.78 2.05 0 2.83L4 21.41c.39.39.9.59 1.41.59.51 0 1.02-.2 1.41-.59l7.78-7.78 2.81-2.81c.8-.78.8-2.07 0-2.86zM5.41 20L4 18.59l7.72-7.72 1.47 1.35L5.41 20z\"/>\n",
              "  </svg>\n",
              "      </button>\n",
              "      \n",
              "  <style>\n",
              "    .colab-df-container {\n",
              "      display:flex;\n",
              "      flex-wrap:wrap;\n",
              "      gap: 12px;\n",
              "    }\n",
              "\n",
              "    .colab-df-convert {\n",
              "      background-color: #E8F0FE;\n",
              "      border: none;\n",
              "      border-radius: 50%;\n",
              "      cursor: pointer;\n",
              "      display: none;\n",
              "      fill: #1967D2;\n",
              "      height: 32px;\n",
              "      padding: 0 0 0 0;\n",
              "      width: 32px;\n",
              "    }\n",
              "\n",
              "    .colab-df-convert:hover {\n",
              "      background-color: #E2EBFA;\n",
              "      box-shadow: 0px 1px 2px rgba(60, 64, 67, 0.3), 0px 1px 3px 1px rgba(60, 64, 67, 0.15);\n",
              "      fill: #174EA6;\n",
              "    }\n",
              "\n",
              "    [theme=dark] .colab-df-convert {\n",
              "      background-color: #3B4455;\n",
              "      fill: #D2E3FC;\n",
              "    }\n",
              "\n",
              "    [theme=dark] .colab-df-convert:hover {\n",
              "      background-color: #434B5C;\n",
              "      box-shadow: 0px 1px 3px 1px rgba(0, 0, 0, 0.15);\n",
              "      filter: drop-shadow(0px 1px 2px rgba(0, 0, 0, 0.3));\n",
              "      fill: #FFFFFF;\n",
              "    }\n",
              "  </style>\n",
              "\n",
              "      <script>\n",
              "        const buttonEl =\n",
              "          document.querySelector('#df-58da573f-35f4-4b3b-97b7-05fc8701ead5 button.colab-df-convert');\n",
              "        buttonEl.style.display =\n",
              "          google.colab.kernel.accessAllowed ? 'block' : 'none';\n",
              "\n",
              "        async function convertToInteractive(key) {\n",
              "          const element = document.querySelector('#df-58da573f-35f4-4b3b-97b7-05fc8701ead5');\n",
              "          const dataTable =\n",
              "            await google.colab.kernel.invokeFunction('convertToInteractive',\n",
              "                                                     [key], {});\n",
              "          if (!dataTable) return;\n",
              "\n",
              "          const docLinkHtml = 'Like what you see? Visit the ' +\n",
              "            '<a target=\"_blank\" href=https://colab.research.google.com/notebooks/data_table.ipynb>data table notebook</a>'\n",
              "            + ' to learn more about interactive tables.';\n",
              "          element.innerHTML = '';\n",
              "          dataTable['output_type'] = 'display_data';\n",
              "          await google.colab.output.renderOutput(dataTable, element);\n",
              "          const docLink = document.createElement('div');\n",
              "          docLink.innerHTML = docLinkHtml;\n",
              "          element.appendChild(docLink);\n",
              "        }\n",
              "      </script>\n",
              "    </div>\n",
              "  </div>\n",
              "  "
            ]
          },
          "metadata": {},
          "execution_count": 12
        }
      ]
    },
    {
      "cell_type": "markdown",
      "source": [
        "Метод astype был выбран, т.к. он всегда хорошо работает в задаче изменение типов"
      ],
      "metadata": {
        "id": "VJd0jJXE-iNr"
      }
    },
    {
      "cell_type": "markdown",
      "source": [
        "## Дубликаты"
      ],
      "metadata": {
        "id": "tj79GjHf_r6Y"
      }
    },
    {
      "cell_type": "markdown",
      "source": [
        "Обработаем дублирующиеся объекты"
      ],
      "metadata": {
        "id": "TixeI5J1_tHu"
      }
    },
    {
      "cell_type": "code",
      "source": [
        "data.duplicated(keep=False)"
      ],
      "metadata": {
        "colab": {
          "base_uri": "https://localhost:8080/"
        },
        "id": "QOl-cXhq96P5",
        "outputId": "c3d337a8-f2ee-4706-d057-4daff7b2fb1c"
      },
      "execution_count": null,
      "outputs": [
        {
          "output_type": "execute_result",
          "data": {
            "text/plain": [
              "0        False\n",
              "1        False\n",
              "2        False\n",
              "3        False\n",
              "4        False\n",
              "         ...  \n",
              "21520    False\n",
              "21521    False\n",
              "21522    False\n",
              "21523    False\n",
              "21524    False\n",
              "Length: 21525, dtype: bool"
            ]
          },
          "metadata": {},
          "execution_count": 13
        }
      ]
    },
    {
      "cell_type": "markdown",
      "source": [
        "Дубликатов нет. В теории, они могли появиться, если, например, какой-нибудь человек дважды заполнил анкету. Это, конечно, не очень хорошо для большинства алгоритмов, т.к. по сути удваивается вес одного объекта"
      ],
      "metadata": {
        "id": "gdz09GHwAUD1"
      }
    },
    {
      "cell_type": "markdown",
      "source": [
        "Если говорить о признаках, видим, что пары family_status, familiy_status_id и education/education_id выражают одну и ту же характеристику. Оставим только категориальную версию"
      ],
      "metadata": {
        "id": "idLuSfGg0zzv"
      }
    },
    {
      "cell_type": "code",
      "source": [
        "del data['family_status_id']\n",
        "del data['education_id']"
      ],
      "metadata": {
        "id": "yDa5IivX1Ny3"
      },
      "execution_count": null,
      "outputs": []
    },
    {
      "cell_type": "markdown",
      "source": [
        "Скорее всего, дубликаты могли возникнуть на этапе обработки данных или из-за какой-то необходимости хранить закодированные значения"
      ],
      "metadata": {
        "id": "Q9vN3hh61WjT"
      }
    },
    {
      "cell_type": "markdown",
      "source": [
        "## Леммы в значениях столбца с целями получения кредита"
      ],
      "metadata": {
        "id": "1Mu9Zd4JA6xW"
      }
    },
    {
      "cell_type": "markdown",
      "source": [
        "Будем применять библиотеку pymorphy2"
      ],
      "metadata": {
        "id": "pvwecIvTFmWx"
      }
    },
    {
      "cell_type": "code",
      "source": [
        "!pip install pymorphy2\n",
        "import pymorphy2\n",
        "\n",
        "morph = pymorphy2.MorphAnalyzer()"
      ],
      "metadata": {
        "colab": {
          "base_uri": "https://localhost:8080/"
        },
        "id": "wAIAR10FGkUC",
        "outputId": "27cedb32-98ff-42d9-bb52-91b8efe17dde"
      },
      "execution_count": null,
      "outputs": [
        {
          "output_type": "stream",
          "name": "stdout",
          "text": [
            "Looking in indexes: https://pypi.org/simple, https://us-python.pkg.dev/colab-wheels/public/simple/\n",
            "Collecting pymorphy2\n",
            "  Downloading pymorphy2-0.9.1-py3-none-any.whl (55 kB)\n",
            "\u001b[K     |████████████████████████████████| 55 kB 480 kB/s \n",
            "\u001b[?25hCollecting docopt>=0.6\n",
            "  Downloading docopt-0.6.2.tar.gz (25 kB)\n",
            "Collecting pymorphy2-dicts-ru<3.0,>=2.4\n",
            "  Downloading pymorphy2_dicts_ru-2.4.417127.4579844-py2.py3-none-any.whl (8.2 MB)\n",
            "\u001b[K     |████████████████████████████████| 8.2 MB 3.8 MB/s \n",
            "\u001b[?25hCollecting dawg-python>=0.7.1\n",
            "  Downloading DAWG_Python-0.7.2-py2.py3-none-any.whl (11 kB)\n",
            "Building wheels for collected packages: docopt\n",
            "  Building wheel for docopt (setup.py) ... \u001b[?25l\u001b[?25hdone\n",
            "  Created wheel for docopt: filename=docopt-0.6.2-py2.py3-none-any.whl size=13723 sha256=30389e548c2f3a3455bb118e06256547f07c0b31e801adfac1b397d13088d7a1\n",
            "  Stored in directory: /root/.cache/pip/wheels/56/ea/58/ead137b087d9e326852a851351d1debf4ada529b6ac0ec4e8c\n",
            "Successfully built docopt\n",
            "Installing collected packages: pymorphy2-dicts-ru, docopt, dawg-python, pymorphy2\n",
            "Successfully installed dawg-python-0.7.2 docopt-0.6.2 pymorphy2-0.9.1 pymorphy2-dicts-ru-2.4.417127.4579844\n"
          ]
        }
      ]
    },
    {
      "cell_type": "markdown",
      "source": [
        "Итак, по сути мы хотим получить более содержательные признаки из столбца purpose. В pymorphy2 лемматизация применяется к каждому слову отдельно, поэтому нужно для начала заменить строки на списки слов в столбце"
      ],
      "metadata": {
        "id": "96sx5vEOC3rF"
      }
    },
    {
      "cell_type": "code",
      "source": [
        "data['purpose'] = data['purpose'].map(lambda x: x.split(sep=' '))\n",
        "data['purpose']"
      ],
      "metadata": {
        "colab": {
          "base_uri": "https://localhost:8080/"
        },
        "id": "SqayzHhAATkw",
        "outputId": "3995e201-a977-4caf-9432-6350a59acd4c"
      },
      "execution_count": null,
      "outputs": [
        {
          "output_type": "execute_result",
          "data": {
            "text/plain": [
              "0                         [покупка, жилья]\n",
              "1               [приобретение, автомобиля]\n",
              "2                         [покупка, жилья]\n",
              "3            [дополнительное, образование]\n",
              "4                       [сыграть, свадьбу]\n",
              "                       ...                \n",
              "21520                [операции, с, жильем]\n",
              "21521             [сделка, с, автомобилем]\n",
              "21522                       [недвижимость]\n",
              "21523    [на, покупку, своего, автомобиля]\n",
              "21524            [на, покупку, автомобиля]\n",
              "Name: purpose, Length: 21525, dtype: object"
            ]
          },
          "metadata": {},
          "execution_count": 16
        }
      ]
    },
    {
      "cell_type": "markdown",
      "source": [
        "Небольшой тест, как работает лемматизация, применённая к одному слову"
      ],
      "metadata": {
        "id": "djpqc2-FGMqG"
      }
    },
    {
      "cell_type": "code",
      "source": [
        "print(morph.parse(\"хочу\")[0].normal_form)\n",
        "print(morph.parse(\"хотят\")[0].normal_form)"
      ],
      "metadata": {
        "colab": {
          "base_uri": "https://localhost:8080/"
        },
        "outputId": "731cab2a-8787-495e-b3fe-63ff662090ab",
        "id": "Iu2irQJ5IWbb"
      },
      "execution_count": null,
      "outputs": [
        {
          "output_type": "stream",
          "name": "stdout",
          "text": [
            "хотеть\n",
            "хотеть\n"
          ]
        }
      ]
    },
    {
      "cell_type": "markdown",
      "source": [
        "Теперь просто применим метод к каждому слову "
      ],
      "metadata": {
        "id": "Xu56Yh5JGXPQ"
      }
    },
    {
      "cell_type": "code",
      "source": [
        "data['purpose'] = data['purpose'].map(lambda x: [morph.parse(w)[0].normal_form for w in x])\n",
        "data['purpose']"
      ],
      "metadata": {
        "colab": {
          "base_uri": "https://localhost:8080/"
        },
        "id": "84hGYbetGkQ9",
        "outputId": "b9495a73-1d75-4274-dd44-ba3931b02243"
      },
      "execution_count": null,
      "outputs": [
        {
          "output_type": "execute_result",
          "data": {
            "text/plain": [
              "0                       [покупка, жильё]\n",
              "1             [приобретение, автомобиль]\n",
              "2                       [покупка, жильё]\n",
              "3          [дополнительный, образование]\n",
              "4                     [сыграть, свадьба]\n",
              "                      ...               \n",
              "21520               [операция, с, жильё]\n",
              "21521            [сделка, с, автомобиль]\n",
              "21522                     [недвижимость]\n",
              "21523    [на, покупка, свой, автомобиль]\n",
              "21524          [на, покупка, автомобиль]\n",
              "Name: purpose, Length: 21525, dtype: object"
            ]
          },
          "metadata": {},
          "execution_count": 18
        }
      ]
    },
    {
      "cell_type": "markdown",
      "source": [
        "Теперь у нас есть списки, из которых можно сделать признаки"
      ],
      "metadata": {
        "id": "9UDmOpp0JEJD"
      }
    },
    {
      "cell_type": "markdown",
      "source": [
        "Нужно преобразовать признак purpose, сделав из каждого значения столбец. Сформируем список уникальных значений столбца"
      ],
      "metadata": {
        "id": "GizAJYG41Xz4"
      }
    },
    {
      "cell_type": "code",
      "source": [
        "unique_vals = []\n",
        "for x in data['purpose']:\n",
        "    for y in x:\n",
        "        if y not in unique_vals:\n",
        "            unique_vals.append(y)\n",
        "unique_vals"
      ],
      "metadata": {
        "id": "qpijCHBjgVx8",
        "colab": {
          "base_uri": "https://localhost:8080/"
        },
        "outputId": "f6a960bf-bc09-4061-e906-743256164504"
      },
      "execution_count": null,
      "outputs": [
        {
          "output_type": "execute_result",
          "data": {
            "text/plain": [
              "['покупка',\n",
              " 'жильё',\n",
              " 'приобретение',\n",
              " 'автомобиль',\n",
              " 'дополнительный',\n",
              " 'образование',\n",
              " 'сыграть',\n",
              " 'свадьба',\n",
              " 'операция',\n",
              " 'с',\n",
              " 'на',\n",
              " 'проведение',\n",
              " 'для',\n",
              " 'семья',\n",
              " 'недвижимость',\n",
              " 'коммерческий',\n",
              " 'жилой',\n",
              " 'строительство',\n",
              " 'собственный',\n",
              " 'подержать',\n",
              " 'свой',\n",
              " 'заняться',\n",
              " 'сделка',\n",
              " 'получение',\n",
              " 'высокий',\n",
              " 'профильный',\n",
              " 'сдача',\n",
              " 'ремонт']"
            ]
          },
          "metadata": {},
          "execution_count": 19
        }
      ]
    },
    {
      "cell_type": "markdown",
      "source": [
        "Выберем из этого списка наиболее важные слова, которые, определённо, несут в себе какую-то информацию"
      ],
      "metadata": {
        "id": "6cVS5dMF4q1f"
      }
    },
    {
      "cell_type": "code",
      "source": [
        "unique_vals_sorted = ['жильё', 'автомобиль', 'образование', 'свадьба', 'операция',\n",
        "                     'семья', 'недвижимость', 'строительство', 'сделка', 'ремонт']"
      ],
      "metadata": {
        "id": "KJwrOvbR4pjU"
      },
      "execution_count": null,
      "outputs": []
    },
    {
      "cell_type": "code",
      "source": [
        "unique_vals_sorted "
      ],
      "metadata": {
        "colab": {
          "base_uri": "https://localhost:8080/"
        },
        "id": "4_FUpBXKBIfx",
        "outputId": "7ddc3a79-2efb-4e0a-a442-cfefbb5048cf"
      },
      "execution_count": null,
      "outputs": [
        {
          "output_type": "execute_result",
          "data": {
            "text/plain": [
              "['жильё',\n",
              " 'автомобиль',\n",
              " 'образование',\n",
              " 'свадьба',\n",
              " 'операция',\n",
              " 'семья',\n",
              " 'недвижимость',\n",
              " 'строительство',\n",
              " 'сделка',\n",
              " 'ремонт']"
            ]
          },
          "metadata": {},
          "execution_count": 21
        }
      ]
    },
    {
      "cell_type": "markdown",
      "source": [
        "Из каждого значения сделаем признак"
      ],
      "metadata": {
        "id": "cVUDkjWc84-f"
      }
    },
    {
      "cell_type": "code",
      "source": [
        "for unique_val in unique_vals_sorted:\n",
        "    def func(x):\n",
        "        if unique_val in x:\n",
        "            return 1\n",
        "        else:\n",
        "            return 0 \n",
        "    print(unique_val)\n",
        "    data[unique_val] = data['purpose'].apply(lambda row: func(row)).astype(int)"
      ],
      "metadata": {
        "colab": {
          "base_uri": "https://localhost:8080/"
        },
        "id": "TG9ydzvt8-Fu",
        "outputId": "b3b2c1d3-5067-41a2-9b7b-66fd259a52fc"
      },
      "execution_count": null,
      "outputs": [
        {
          "output_type": "stream",
          "name": "stdout",
          "text": [
            "жильё\n",
            "автомобиль\n",
            "образование\n",
            "свадьба\n",
            "операция\n",
            "семья\n",
            "недвижимость\n",
            "строительство\n",
            "сделка\n",
            "ремонт\n"
          ]
        }
      ]
    },
    {
      "cell_type": "markdown",
      "source": [
        "Удалим исходный признак purpose"
      ],
      "metadata": {
        "id": "5RQ0qw5ZABDv"
      }
    },
    {
      "cell_type": "code",
      "source": [
        "del data['purpose']"
      ],
      "metadata": {
        "id": "hGfBneS-AAFz"
      },
      "execution_count": null,
      "outputs": []
    },
    {
      "cell_type": "markdown",
      "source": [
        "Заметим, что лемматизация не помешает и признакам family_status, income_type, education, сделаем её"
      ],
      "metadata": {
        "id": "7s-w60K7lCS6"
      }
    },
    {
      "cell_type": "code",
      "source": [
        "data['income_type'] = data['income_type'].map(lambda x: morph.parse(x)[0].normal_form)\n",
        "data['family_status'] = data['family_status'].map(lambda x: morph.parse(x)[0].normal_form)\n",
        "data['education'] = data['education'].map(lambda x: morph.parse(x)[0].normal_form)"
      ],
      "metadata": {
        "id": "3xeADbr6k6_v"
      },
      "execution_count": null,
      "outputs": []
    },
    {
      "cell_type": "code",
      "source": [
        "data"
      ],
      "metadata": {
        "colab": {
          "base_uri": "https://localhost:8080/",
          "height": 661
        },
        "id": "GqUOc7cKlksF",
        "outputId": "2ab735a6-79f2-4faa-9fc1-f8a2cfd08f17"
      },
      "execution_count": null,
      "outputs": [
        {
          "output_type": "execute_result",
          "data": {
            "text/plain": [
              "       children  days_employed  dob_years education     family_status gender  \\\n",
              "0             1          -8437         42   высокий   женат / замужем      F   \n",
              "1             1          -4024         36   средний   женат / замужем      F   \n",
              "2             0          -5623         33   средний   женат / замужем      M   \n",
              "3             3          -4124         32   средний   женат / замужем      M   \n",
              "4             0         340266         53   средний  гражданский брак      F   \n",
              "...         ...            ...        ...       ...               ...    ...   \n",
              "21520         1          -4529         43   средний  гражданский брак      F   \n",
              "21521         0         343937         67   средний   женат / замужем      F   \n",
              "21522         1          -2113         38   средний  гражданский брак      M   \n",
              "21523         3          -3112         38   средний   женат / замужем      M   \n",
              "21524         2          -1984         40   средний   женат / замужем      F   \n",
              "\n",
              "      income_type  debt  total_income  жильё  автомобиль  образование  \\\n",
              "0       сотрудник     0        253875      1           0            0   \n",
              "1       сотрудник     0        112080      0           1            0   \n",
              "2       сотрудник     0        145885      1           0            0   \n",
              "3       сотрудник     0        267628      0           0            1   \n",
              "4       пенсионер     0        158616      0           0            0   \n",
              "...           ...   ...           ...    ...         ...          ...   \n",
              "21520   компаньон     0        224791      1           0            0   \n",
              "21521   пенсионер     0        155999      0           1            0   \n",
              "21522   сотрудник     1         89672      0           0            0   \n",
              "21523   сотрудник     1        244093      0           1            0   \n",
              "21524   сотрудник     0         82047      0           1            0   \n",
              "\n",
              "       свадьба  операция  семья  недвижимость  строительство  сделка  ремонт  \n",
              "0            0         0      0             0              0       0       0  \n",
              "1            0         0      0             0              0       0       0  \n",
              "2            0         0      0             0              0       0       0  \n",
              "3            0         0      0             0              0       0       0  \n",
              "4            1         0      0             0              0       0       0  \n",
              "...        ...       ...    ...           ...            ...     ...     ...  \n",
              "21520        0         1      0             0              0       0       0  \n",
              "21521        0         0      0             0              0       1       0  \n",
              "21522        0         0      0             1              0       0       0  \n",
              "21523        0         0      0             0              0       0       0  \n",
              "21524        0         0      0             0              0       0       0  \n",
              "\n",
              "[21525 rows x 19 columns]"
            ],
            "text/html": [
              "\n",
              "  <div id=\"df-b23d4e65-6371-4d41-b61d-4acbf3675dee\">\n",
              "    <div class=\"colab-df-container\">\n",
              "      <div>\n",
              "<style scoped>\n",
              "    .dataframe tbody tr th:only-of-type {\n",
              "        vertical-align: middle;\n",
              "    }\n",
              "\n",
              "    .dataframe tbody tr th {\n",
              "        vertical-align: top;\n",
              "    }\n",
              "\n",
              "    .dataframe thead th {\n",
              "        text-align: right;\n",
              "    }\n",
              "</style>\n",
              "<table border=\"1\" class=\"dataframe\">\n",
              "  <thead>\n",
              "    <tr style=\"text-align: right;\">\n",
              "      <th></th>\n",
              "      <th>children</th>\n",
              "      <th>days_employed</th>\n",
              "      <th>dob_years</th>\n",
              "      <th>education</th>\n",
              "      <th>family_status</th>\n",
              "      <th>gender</th>\n",
              "      <th>income_type</th>\n",
              "      <th>debt</th>\n",
              "      <th>total_income</th>\n",
              "      <th>жильё</th>\n",
              "      <th>автомобиль</th>\n",
              "      <th>образование</th>\n",
              "      <th>свадьба</th>\n",
              "      <th>операция</th>\n",
              "      <th>семья</th>\n",
              "      <th>недвижимость</th>\n",
              "      <th>строительство</th>\n",
              "      <th>сделка</th>\n",
              "      <th>ремонт</th>\n",
              "    </tr>\n",
              "  </thead>\n",
              "  <tbody>\n",
              "    <tr>\n",
              "      <th>0</th>\n",
              "      <td>1</td>\n",
              "      <td>-8437</td>\n",
              "      <td>42</td>\n",
              "      <td>высокий</td>\n",
              "      <td>женат / замужем</td>\n",
              "      <td>F</td>\n",
              "      <td>сотрудник</td>\n",
              "      <td>0</td>\n",
              "      <td>253875</td>\n",
              "      <td>1</td>\n",
              "      <td>0</td>\n",
              "      <td>0</td>\n",
              "      <td>0</td>\n",
              "      <td>0</td>\n",
              "      <td>0</td>\n",
              "      <td>0</td>\n",
              "      <td>0</td>\n",
              "      <td>0</td>\n",
              "      <td>0</td>\n",
              "    </tr>\n",
              "    <tr>\n",
              "      <th>1</th>\n",
              "      <td>1</td>\n",
              "      <td>-4024</td>\n",
              "      <td>36</td>\n",
              "      <td>средний</td>\n",
              "      <td>женат / замужем</td>\n",
              "      <td>F</td>\n",
              "      <td>сотрудник</td>\n",
              "      <td>0</td>\n",
              "      <td>112080</td>\n",
              "      <td>0</td>\n",
              "      <td>1</td>\n",
              "      <td>0</td>\n",
              "      <td>0</td>\n",
              "      <td>0</td>\n",
              "      <td>0</td>\n",
              "      <td>0</td>\n",
              "      <td>0</td>\n",
              "      <td>0</td>\n",
              "      <td>0</td>\n",
              "    </tr>\n",
              "    <tr>\n",
              "      <th>2</th>\n",
              "      <td>0</td>\n",
              "      <td>-5623</td>\n",
              "      <td>33</td>\n",
              "      <td>средний</td>\n",
              "      <td>женат / замужем</td>\n",
              "      <td>M</td>\n",
              "      <td>сотрудник</td>\n",
              "      <td>0</td>\n",
              "      <td>145885</td>\n",
              "      <td>1</td>\n",
              "      <td>0</td>\n",
              "      <td>0</td>\n",
              "      <td>0</td>\n",
              "      <td>0</td>\n",
              "      <td>0</td>\n",
              "      <td>0</td>\n",
              "      <td>0</td>\n",
              "      <td>0</td>\n",
              "      <td>0</td>\n",
              "    </tr>\n",
              "    <tr>\n",
              "      <th>3</th>\n",
              "      <td>3</td>\n",
              "      <td>-4124</td>\n",
              "      <td>32</td>\n",
              "      <td>средний</td>\n",
              "      <td>женат / замужем</td>\n",
              "      <td>M</td>\n",
              "      <td>сотрудник</td>\n",
              "      <td>0</td>\n",
              "      <td>267628</td>\n",
              "      <td>0</td>\n",
              "      <td>0</td>\n",
              "      <td>1</td>\n",
              "      <td>0</td>\n",
              "      <td>0</td>\n",
              "      <td>0</td>\n",
              "      <td>0</td>\n",
              "      <td>0</td>\n",
              "      <td>0</td>\n",
              "      <td>0</td>\n",
              "    </tr>\n",
              "    <tr>\n",
              "      <th>4</th>\n",
              "      <td>0</td>\n",
              "      <td>340266</td>\n",
              "      <td>53</td>\n",
              "      <td>средний</td>\n",
              "      <td>гражданский брак</td>\n",
              "      <td>F</td>\n",
              "      <td>пенсионер</td>\n",
              "      <td>0</td>\n",
              "      <td>158616</td>\n",
              "      <td>0</td>\n",
              "      <td>0</td>\n",
              "      <td>0</td>\n",
              "      <td>1</td>\n",
              "      <td>0</td>\n",
              "      <td>0</td>\n",
              "      <td>0</td>\n",
              "      <td>0</td>\n",
              "      <td>0</td>\n",
              "      <td>0</td>\n",
              "    </tr>\n",
              "    <tr>\n",
              "      <th>...</th>\n",
              "      <td>...</td>\n",
              "      <td>...</td>\n",
              "      <td>...</td>\n",
              "      <td>...</td>\n",
              "      <td>...</td>\n",
              "      <td>...</td>\n",
              "      <td>...</td>\n",
              "      <td>...</td>\n",
              "      <td>...</td>\n",
              "      <td>...</td>\n",
              "      <td>...</td>\n",
              "      <td>...</td>\n",
              "      <td>...</td>\n",
              "      <td>...</td>\n",
              "      <td>...</td>\n",
              "      <td>...</td>\n",
              "      <td>...</td>\n",
              "      <td>...</td>\n",
              "      <td>...</td>\n",
              "    </tr>\n",
              "    <tr>\n",
              "      <th>21520</th>\n",
              "      <td>1</td>\n",
              "      <td>-4529</td>\n",
              "      <td>43</td>\n",
              "      <td>средний</td>\n",
              "      <td>гражданский брак</td>\n",
              "      <td>F</td>\n",
              "      <td>компаньон</td>\n",
              "      <td>0</td>\n",
              "      <td>224791</td>\n",
              "      <td>1</td>\n",
              "      <td>0</td>\n",
              "      <td>0</td>\n",
              "      <td>0</td>\n",
              "      <td>1</td>\n",
              "      <td>0</td>\n",
              "      <td>0</td>\n",
              "      <td>0</td>\n",
              "      <td>0</td>\n",
              "      <td>0</td>\n",
              "    </tr>\n",
              "    <tr>\n",
              "      <th>21521</th>\n",
              "      <td>0</td>\n",
              "      <td>343937</td>\n",
              "      <td>67</td>\n",
              "      <td>средний</td>\n",
              "      <td>женат / замужем</td>\n",
              "      <td>F</td>\n",
              "      <td>пенсионер</td>\n",
              "      <td>0</td>\n",
              "      <td>155999</td>\n",
              "      <td>0</td>\n",
              "      <td>1</td>\n",
              "      <td>0</td>\n",
              "      <td>0</td>\n",
              "      <td>0</td>\n",
              "      <td>0</td>\n",
              "      <td>0</td>\n",
              "      <td>0</td>\n",
              "      <td>1</td>\n",
              "      <td>0</td>\n",
              "    </tr>\n",
              "    <tr>\n",
              "      <th>21522</th>\n",
              "      <td>1</td>\n",
              "      <td>-2113</td>\n",
              "      <td>38</td>\n",
              "      <td>средний</td>\n",
              "      <td>гражданский брак</td>\n",
              "      <td>M</td>\n",
              "      <td>сотрудник</td>\n",
              "      <td>1</td>\n",
              "      <td>89672</td>\n",
              "      <td>0</td>\n",
              "      <td>0</td>\n",
              "      <td>0</td>\n",
              "      <td>0</td>\n",
              "      <td>0</td>\n",
              "      <td>0</td>\n",
              "      <td>1</td>\n",
              "      <td>0</td>\n",
              "      <td>0</td>\n",
              "      <td>0</td>\n",
              "    </tr>\n",
              "    <tr>\n",
              "      <th>21523</th>\n",
              "      <td>3</td>\n",
              "      <td>-3112</td>\n",
              "      <td>38</td>\n",
              "      <td>средний</td>\n",
              "      <td>женат / замужем</td>\n",
              "      <td>M</td>\n",
              "      <td>сотрудник</td>\n",
              "      <td>1</td>\n",
              "      <td>244093</td>\n",
              "      <td>0</td>\n",
              "      <td>1</td>\n",
              "      <td>0</td>\n",
              "      <td>0</td>\n",
              "      <td>0</td>\n",
              "      <td>0</td>\n",
              "      <td>0</td>\n",
              "      <td>0</td>\n",
              "      <td>0</td>\n",
              "      <td>0</td>\n",
              "    </tr>\n",
              "    <tr>\n",
              "      <th>21524</th>\n",
              "      <td>2</td>\n",
              "      <td>-1984</td>\n",
              "      <td>40</td>\n",
              "      <td>средний</td>\n",
              "      <td>женат / замужем</td>\n",
              "      <td>F</td>\n",
              "      <td>сотрудник</td>\n",
              "      <td>0</td>\n",
              "      <td>82047</td>\n",
              "      <td>0</td>\n",
              "      <td>1</td>\n",
              "      <td>0</td>\n",
              "      <td>0</td>\n",
              "      <td>0</td>\n",
              "      <td>0</td>\n",
              "      <td>0</td>\n",
              "      <td>0</td>\n",
              "      <td>0</td>\n",
              "      <td>0</td>\n",
              "    </tr>\n",
              "  </tbody>\n",
              "</table>\n",
              "<p>21525 rows × 19 columns</p>\n",
              "</div>\n",
              "      <button class=\"colab-df-convert\" onclick=\"convertToInteractive('df-b23d4e65-6371-4d41-b61d-4acbf3675dee')\"\n",
              "              title=\"Convert this dataframe to an interactive table.\"\n",
              "              style=\"display:none;\">\n",
              "        \n",
              "  <svg xmlns=\"http://www.w3.org/2000/svg\" height=\"24px\"viewBox=\"0 0 24 24\"\n",
              "       width=\"24px\">\n",
              "    <path d=\"M0 0h24v24H0V0z\" fill=\"none\"/>\n",
              "    <path d=\"M18.56 5.44l.94 2.06.94-2.06 2.06-.94-2.06-.94-.94-2.06-.94 2.06-2.06.94zm-11 1L8.5 8.5l.94-2.06 2.06-.94-2.06-.94L8.5 2.5l-.94 2.06-2.06.94zm10 10l.94 2.06.94-2.06 2.06-.94-2.06-.94-.94-2.06-.94 2.06-2.06.94z\"/><path d=\"M17.41 7.96l-1.37-1.37c-.4-.4-.92-.59-1.43-.59-.52 0-1.04.2-1.43.59L10.3 9.45l-7.72 7.72c-.78.78-.78 2.05 0 2.83L4 21.41c.39.39.9.59 1.41.59.51 0 1.02-.2 1.41-.59l7.78-7.78 2.81-2.81c.8-.78.8-2.07 0-2.86zM5.41 20L4 18.59l7.72-7.72 1.47 1.35L5.41 20z\"/>\n",
              "  </svg>\n",
              "      </button>\n",
              "      \n",
              "  <style>\n",
              "    .colab-df-container {\n",
              "      display:flex;\n",
              "      flex-wrap:wrap;\n",
              "      gap: 12px;\n",
              "    }\n",
              "\n",
              "    .colab-df-convert {\n",
              "      background-color: #E8F0FE;\n",
              "      border: none;\n",
              "      border-radius: 50%;\n",
              "      cursor: pointer;\n",
              "      display: none;\n",
              "      fill: #1967D2;\n",
              "      height: 32px;\n",
              "      padding: 0 0 0 0;\n",
              "      width: 32px;\n",
              "    }\n",
              "\n",
              "    .colab-df-convert:hover {\n",
              "      background-color: #E2EBFA;\n",
              "      box-shadow: 0px 1px 2px rgba(60, 64, 67, 0.3), 0px 1px 3px 1px rgba(60, 64, 67, 0.15);\n",
              "      fill: #174EA6;\n",
              "    }\n",
              "\n",
              "    [theme=dark] .colab-df-convert {\n",
              "      background-color: #3B4455;\n",
              "      fill: #D2E3FC;\n",
              "    }\n",
              "\n",
              "    [theme=dark] .colab-df-convert:hover {\n",
              "      background-color: #434B5C;\n",
              "      box-shadow: 0px 1px 3px 1px rgba(0, 0, 0, 0.15);\n",
              "      filter: drop-shadow(0px 1px 2px rgba(0, 0, 0, 0.3));\n",
              "      fill: #FFFFFF;\n",
              "    }\n",
              "  </style>\n",
              "\n",
              "      <script>\n",
              "        const buttonEl =\n",
              "          document.querySelector('#df-b23d4e65-6371-4d41-b61d-4acbf3675dee button.colab-df-convert');\n",
              "        buttonEl.style.display =\n",
              "          google.colab.kernel.accessAllowed ? 'block' : 'none';\n",
              "\n",
              "        async function convertToInteractive(key) {\n",
              "          const element = document.querySelector('#df-b23d4e65-6371-4d41-b61d-4acbf3675dee');\n",
              "          const dataTable =\n",
              "            await google.colab.kernel.invokeFunction('convertToInteractive',\n",
              "                                                     [key], {});\n",
              "          if (!dataTable) return;\n",
              "\n",
              "          const docLinkHtml = 'Like what you see? Visit the ' +\n",
              "            '<a target=\"_blank\" href=https://colab.research.google.com/notebooks/data_table.ipynb>data table notebook</a>'\n",
              "            + ' to learn more about interactive tables.';\n",
              "          element.innerHTML = '';\n",
              "          dataTable['output_type'] = 'display_data';\n",
              "          await google.colab.output.renderOutput(dataTable, element);\n",
              "          const docLink = document.createElement('div');\n",
              "          docLink.innerHTML = docLinkHtml;\n",
              "          element.appendChild(docLink);\n",
              "        }\n",
              "      </script>\n",
              "    </div>\n",
              "  </div>\n",
              "  "
            ]
          },
          "metadata": {},
          "execution_count": 25
        }
      ]
    },
    {
      "cell_type": "markdown",
      "source": [
        "## Категоризация"
      ],
      "metadata": {
        "id": "nqCmJXHSMSY6"
      }
    },
    {
      "cell_type": "markdown",
      "source": [
        "Посмотрим на распределения числовых столбцов"
      ],
      "metadata": {
        "id": "IAtZEpz-MZWs"
      }
    },
    {
      "cell_type": "code",
      "source": [
        "sns.displot(\n",
        "  data=data['days_employed'],\n",
        "  kde=True,\n",
        "  common_norm=False)\n",
        "\n",
        "plt.xlim(0, 100000)\n",
        "plt.ylim(0, 100)\n",
        "plt.title('Распределение days_employed');"
      ],
      "metadata": {
        "colab": {
          "base_uri": "https://localhost:8080/",
          "height": 385
        },
        "id": "h_cDfl2OJfaH",
        "outputId": "c5b25711-1321-4dfa-f7d3-56219372334c"
      },
      "execution_count": null,
      "outputs": [
        {
          "output_type": "display_data",
          "data": {
            "text/plain": [
              "<Figure size 360x360 with 1 Axes>"
            ],
            "image/png": "[encoded data removed]"
          },
          "metadata": {
            "needs_background": "light"
          }
        }
      ]
    },
    {
      "cell_type": "code",
      "source": [
        "sns.displot(\n",
        "  data=data['dob_years'],\n",
        "  kde=True,\n",
        "  common_norm=False)\n",
        "\n",
        "plt.title('Распределение dob_years');"
      ],
      "metadata": {
        "colab": {
          "base_uri": "https://localhost:8080/",
          "height": 385
        },
        "id": "cYfZrebDJfci",
        "outputId": "411aab73-927d-4646-d02b-8048e19dbe18"
      },
      "execution_count": null,
      "outputs": [
        {
          "output_type": "display_data",
          "data": {
            "text/plain": [
              "<Figure size 360x360 with 1 Axes>"
            ],
            "image/png": "[encoded data removed]"
          },
          "metadata": {
            "needs_background": "light"
          }
        }
      ]
    },
    {
      "cell_type": "code",
      "source": [
        "sns.displot(\n",
        "  data=data['total_income'],\n",
        "  kde=True,\n",
        "  common_norm=False)\n",
        "\n",
        "plt.ylim(0, 1000)\n",
        "plt.title('Распределение total_income');"
      ],
      "metadata": {
        "colab": {
          "base_uri": "https://localhost:8080/",
          "height": 385
        },
        "id": "FAvzXQJHJffA",
        "outputId": "b15a6da3-3471-4653-9f25-267d31c2205b"
      },
      "execution_count": null,
      "outputs": [
        {
          "output_type": "display_data",
          "data": {
            "text/plain": [
              "<Figure size 360x360 with 1 Axes>"
            ],
            "image/png": "[encoded data removed]"
          },
          "metadata": {
            "needs_background": "light"
          }
        }
      ]
    },
    {
      "cell_type": "markdown",
      "source": [
        "В принципе, графики уже дают примерное представление о том, как нужно разбивать признаки. Наверное, здесь нет какого-то общего рецепта, так что реализуем самый простой вариант - выделим категории \"мало\", \"средне\" и \"много\" для этих признаков"
      ],
      "metadata": {
        "id": "FAbJk93mORoG"
      }
    },
    {
      "cell_type": "code",
      "source": [
        "def get_category(x, min_, avg_first, avg_second):\n",
        "    if (x > min_) & (x < avg_first):\n",
        "        return 'мало'\n",
        "    elif (x > avg_first) & (x < avg_second):\n",
        "        return 'средне'\n",
        "    else:\n",
        "        return 'много'"
      ],
      "metadata": {
        "id": "RGGTprGKN8ny"
      },
      "execution_count": null,
      "outputs": []
    },
    {
      "cell_type": "code",
      "source": [
        "data['days_employed_cat'] = data['days_employed'].map(lambda x:\n",
        "                                                      get_category(x, data['days_employed'].min(), 20000, 40000))\n",
        "\n",
        "data['days_employed_cat']"
      ],
      "metadata": {
        "id": "OxtVb3DgN8qQ",
        "colab": {
          "base_uri": "https://localhost:8080/"
        },
        "outputId": "efb193cf-8dd0-4f98-bbfd-f73d5d4098ec"
      },
      "execution_count": null,
      "outputs": [
        {
          "output_type": "execute_result",
          "data": {
            "text/plain": [
              "0         мало\n",
              "1         мало\n",
              "2         мало\n",
              "3         мало\n",
              "4        много\n",
              "         ...  \n",
              "21520     мало\n",
              "21521    много\n",
              "21522     мало\n",
              "21523     мало\n",
              "21524     мало\n",
              "Name: days_employed_cat, Length: 21525, dtype: object"
            ]
          },
          "metadata": {},
          "execution_count": 30
        }
      ]
    },
    {
      "cell_type": "code",
      "source": [
        "data['dob_years_cat'] = data['dob_years'].map(lambda x:\n",
        "                                          get_category(x, data['dob_years'].min(), 30, 60))\n",
        "\n",
        "data['dob_years_cat']"
      ],
      "metadata": {
        "id": "eLqC8KxkN8s1",
        "colab": {
          "base_uri": "https://localhost:8080/"
        },
        "outputId": "c0480dd4-732f-420f-dc04-f2941bb20eac"
      },
      "execution_count": null,
      "outputs": [
        {
          "output_type": "execute_result",
          "data": {
            "text/plain": [
              "0        средне\n",
              "1        средне\n",
              "2        средне\n",
              "3        средне\n",
              "4        средне\n",
              "          ...  \n",
              "21520    средне\n",
              "21521     много\n",
              "21522    средне\n",
              "21523    средне\n",
              "21524    средне\n",
              "Name: dob_years_cat, Length: 21525, dtype: object"
            ]
          },
          "metadata": {},
          "execution_count": 31
        }
      ]
    },
    {
      "cell_type": "code",
      "source": [
        "data['total_income_cat'] = data['total_income'].map(lambda x:\n",
        "                                                      get_category(x, data['total_income'].min(), 0.2e-6, 0.4e-6))\n",
        "\n",
        "data['total_income_cat']"
      ],
      "metadata": {
        "id": "WE2pqJkzN8u6",
        "colab": {
          "base_uri": "https://localhost:8080/"
        },
        "outputId": "f8dd6b41-edd3-4a9e-e01b-23e62ec53a73"
      },
      "execution_count": null,
      "outputs": [
        {
          "output_type": "execute_result",
          "data": {
            "text/plain": [
              "0        много\n",
              "1        много\n",
              "2        много\n",
              "3        много\n",
              "4        много\n",
              "         ...  \n",
              "21520    много\n",
              "21521    много\n",
              "21522    много\n",
              "21523    много\n",
              "21524    много\n",
              "Name: total_income_cat, Length: 21525, dtype: object"
            ]
          },
          "metadata": {},
          "execution_count": 32
        }
      ]
    },
    {
      "cell_type": "markdown",
      "source": [
        "## Значения, не отражающие действительность"
      ],
      "metadata": {
        "id": "yeHxl6prb5M9"
      }
    },
    {
      "cell_type": "markdown",
      "source": [
        "Выведем статистики числовых столбцов"
      ],
      "metadata": {
        "id": "IE5b4aLvcBbu"
      }
    },
    {
      "cell_type": "code",
      "source": [
        "data.describe()"
      ],
      "metadata": {
        "colab": {
          "base_uri": "https://localhost:8080/",
          "height": 364
        },
        "id": "Io-EZiQ7be2E",
        "outputId": "887e4742-1fad-4869-f7b3-eb7ec2922c4e"
      },
      "execution_count": null,
      "outputs": [
        {
          "output_type": "execute_result",
          "data": {
            "text/plain": [
              "           children  days_employed     dob_years          debt  total_income  \\\n",
              "count  21525.000000   21525.000000  21525.000000  21525.000000  2.152500e+04   \n",
              "mean       0.538908   56557.661649     43.293380      0.080883  1.651589e+05   \n",
              "std        1.381587  134921.959082     12.574584      0.272661  9.786608e+04   \n",
              "min       -1.000000  -18388.000000      0.000000      0.000000  2.066700e+04   \n",
              "25%        0.000000   -2518.000000     33.000000      0.000000  1.077980e+05   \n",
              "50%        0.000000   -1203.000000     42.000000      0.000000  1.450170e+05   \n",
              "75%        1.000000    -385.000000     53.000000      0.000000  1.955430e+05   \n",
              "max       20.000000  401755.000000     75.000000      1.000000  2.265604e+06   \n",
              "\n",
              "              жильё    автомобиль   образование       свадьба      операция  \\\n",
              "count  21525.000000  21525.000000  21525.000000  21525.000000  21525.000000   \n",
              "mean       0.207805      0.200465      0.186852      0.109082      0.121254   \n",
              "std        0.405746      0.400357      0.389802      0.311750      0.326430   \n",
              "min        0.000000      0.000000      0.000000      0.000000      0.000000   \n",
              "25%        0.000000      0.000000      0.000000      0.000000      0.000000   \n",
              "50%        0.000000      0.000000      0.000000      0.000000      0.000000   \n",
              "75%        0.000000      0.000000      0.000000      0.000000      0.000000   \n",
              "max        1.000000      1.000000      1.000000      1.000000      1.000000   \n",
              "\n",
              "              семья  недвижимость  строительство        сделка        ремонт  \n",
              "count  21525.000000  21525.000000   21525.000000  21525.000000  21525.000000  \n",
              "mean       0.029779      0.295796       0.087387      0.043856      0.028432  \n",
              "std        0.169982      0.456410       0.282408      0.204779      0.166208  \n",
              "min        0.000000      0.000000       0.000000      0.000000      0.000000  \n",
              "25%        0.000000      0.000000       0.000000      0.000000      0.000000  \n",
              "50%        0.000000      0.000000       0.000000      0.000000      0.000000  \n",
              "75%        0.000000      1.000000       0.000000      0.000000      0.000000  \n",
              "max        1.000000      1.000000       1.000000      1.000000      1.000000  "
            ],
            "text/html": [
              "\n",
              "  <div id=\"df-36e5ee96-3bdf-45f6-b352-8e7829ba7caa\">\n",
              "    <div class=\"colab-df-container\">\n",
              "      <div>\n",
              "<style scoped>\n",
              "    .dataframe tbody tr th:only-of-type {\n",
              "        vertical-align: middle;\n",
              "    }\n",
              "\n",
              "    .dataframe tbody tr th {\n",
              "        vertical-align: top;\n",
              "    }\n",
              "\n",
              "    .dataframe thead th {\n",
              "        text-align: right;\n",
              "    }\n",
              "</style>\n",
              "<table border=\"1\" class=\"dataframe\">\n",
              "  <thead>\n",
              "    <tr style=\"text-align: right;\">\n",
              "      <th></th>\n",
              "      <th>children</th>\n",
              "      <th>days_employed</th>\n",
              "      <th>dob_years</th>\n",
              "      <th>debt</th>\n",
              "      <th>total_income</th>\n",
              "      <th>жильё</th>\n",
              "      <th>автомобиль</th>\n",
              "      <th>образование</th>\n",
              "      <th>свадьба</th>\n",
              "      <th>операция</th>\n",
              "      <th>семья</th>\n",
              "      <th>недвижимость</th>\n",
              "      <th>строительство</th>\n",
              "      <th>сделка</th>\n",
              "      <th>ремонт</th>\n",
              "    </tr>\n",
              "  </thead>\n",
              "  <tbody>\n",
              "    <tr>\n",
              "      <th>count</th>\n",
              "      <td>21525.000000</td>\n",
              "      <td>21525.000000</td>\n",
              "      <td>21525.000000</td>\n",
              "      <td>21525.000000</td>\n",
              "      <td>2.152500e+04</td>\n",
              "      <td>21525.000000</td>\n",
              "      <td>21525.000000</td>\n",
              "      <td>21525.000000</td>\n",
              "      <td>21525.000000</td>\n",
              "      <td>21525.000000</td>\n",
              "      <td>21525.000000</td>\n",
              "      <td>21525.000000</td>\n",
              "      <td>21525.000000</td>\n",
              "      <td>21525.000000</td>\n",
              "      <td>21525.000000</td>\n",
              "    </tr>\n",
              "    <tr>\n",
              "      <th>mean</th>\n",
              "      <td>0.538908</td>\n",
              "      <td>56557.661649</td>\n",
              "      <td>43.293380</td>\n",
              "      <td>0.080883</td>\n",
              "      <td>1.651589e+05</td>\n",
              "      <td>0.207805</td>\n",
              "      <td>0.200465</td>\n",
              "      <td>0.186852</td>\n",
              "      <td>0.109082</td>\n",
              "      <td>0.121254</td>\n",
              "      <td>0.029779</td>\n",
              "      <td>0.295796</td>\n",
              "      <td>0.087387</td>\n",
              "      <td>0.043856</td>\n",
              "      <td>0.028432</td>\n",
              "    </tr>\n",
              "    <tr>\n",
              "      <th>std</th>\n",
              "      <td>1.381587</td>\n",
              "      <td>134921.959082</td>\n",
              "      <td>12.574584</td>\n",
              "      <td>0.272661</td>\n",
              "      <td>9.786608e+04</td>\n",
              "      <td>0.405746</td>\n",
              "      <td>0.400357</td>\n",
              "      <td>0.389802</td>\n",
              "      <td>0.311750</td>\n",
              "      <td>0.326430</td>\n",
              "      <td>0.169982</td>\n",
              "      <td>0.456410</td>\n",
              "      <td>0.282408</td>\n",
              "      <td>0.204779</td>\n",
              "      <td>0.166208</td>\n",
              "    </tr>\n",
              "    <tr>\n",
              "      <th>min</th>\n",
              "      <td>-1.000000</td>\n",
              "      <td>-18388.000000</td>\n",
              "      <td>0.000000</td>\n",
              "      <td>0.000000</td>\n",
              "      <td>2.066700e+04</td>\n",
              "      <td>0.000000</td>\n",
              "      <td>0.000000</td>\n",
              "      <td>0.000000</td>\n",
              "      <td>0.000000</td>\n",
              "      <td>0.000000</td>\n",
              "      <td>0.000000</td>\n",
              "      <td>0.000000</td>\n",
              "      <td>0.000000</td>\n",
              "      <td>0.000000</td>\n",
              "      <td>0.000000</td>\n",
              "    </tr>\n",
              "    <tr>\n",
              "      <th>25%</th>\n",
              "      <td>0.000000</td>\n",
              "      <td>-2518.000000</td>\n",
              "      <td>33.000000</td>\n",
              "      <td>0.000000</td>\n",
              "      <td>1.077980e+05</td>\n",
              "      <td>0.000000</td>\n",
              "      <td>0.000000</td>\n",
              "      <td>0.000000</td>\n",
              "      <td>0.000000</td>\n",
              "      <td>0.000000</td>\n",
              "      <td>0.000000</td>\n",
              "      <td>0.000000</td>\n",
              "      <td>0.000000</td>\n",
              "      <td>0.000000</td>\n",
              "      <td>0.000000</td>\n",
              "    </tr>\n",
              "    <tr>\n",
              "      <th>50%</th>\n",
              "      <td>0.000000</td>\n",
              "      <td>-1203.000000</td>\n",
              "      <td>42.000000</td>\n",
              "      <td>0.000000</td>\n",
              "      <td>1.450170e+05</td>\n",
              "      <td>0.000000</td>\n",
              "      <td>0.000000</td>\n",
              "      <td>0.000000</td>\n",
              "      <td>0.000000</td>\n",
              "      <td>0.000000</td>\n",
              "      <td>0.000000</td>\n",
              "      <td>0.000000</td>\n",
              "      <td>0.000000</td>\n",
              "      <td>0.000000</td>\n",
              "      <td>0.000000</td>\n",
              "    </tr>\n",
              "    <tr>\n",
              "      <th>75%</th>\n",
              "      <td>1.000000</td>\n",
              "      <td>-385.000000</td>\n",
              "      <td>53.000000</td>\n",
              "      <td>0.000000</td>\n",
              "      <td>1.955430e+05</td>\n",
              "      <td>0.000000</td>\n",
              "      <td>0.000000</td>\n",
              "      <td>0.000000</td>\n",
              "      <td>0.000000</td>\n",
              "      <td>0.000000</td>\n",
              "      <td>0.000000</td>\n",
              "      <td>1.000000</td>\n",
              "      <td>0.000000</td>\n",
              "      <td>0.000000</td>\n",
              "      <td>0.000000</td>\n",
              "    </tr>\n",
              "    <tr>\n",
              "      <th>max</th>\n",
              "      <td>20.000000</td>\n",
              "      <td>401755.000000</td>\n",
              "      <td>75.000000</td>\n",
              "      <td>1.000000</td>\n",
              "      <td>2.265604e+06</td>\n",
              "      <td>1.000000</td>\n",
              "      <td>1.000000</td>\n",
              "      <td>1.000000</td>\n",
              "      <td>1.000000</td>\n",
              "      <td>1.000000</td>\n",
              "      <td>1.000000</td>\n",
              "      <td>1.000000</td>\n",
              "      <td>1.000000</td>\n",
              "      <td>1.000000</td>\n",
              "      <td>1.000000</td>\n",
              "    </tr>\n",
              "  </tbody>\n",
              "</table>\n",
              "</div>\n",
              "      <button class=\"colab-df-convert\" onclick=\"convertToInteractive('df-36e5ee96-3bdf-45f6-b352-8e7829ba7caa')\"\n",
              "              title=\"Convert this dataframe to an interactive table.\"\n",
              "              style=\"display:none;\">\n",
              "        \n",
              "  <svg xmlns=\"http://www.w3.org/2000/svg\" height=\"24px\"viewBox=\"0 0 24 24\"\n",
              "       width=\"24px\">\n",
              "    <path d=\"M0 0h24v24H0V0z\" fill=\"none\"/>\n",
              "    <path d=\"M18.56 5.44l.94 2.06.94-2.06 2.06-.94-2.06-.94-.94-2.06-.94 2.06-2.06.94zm-11 1L8.5 8.5l.94-2.06 2.06-.94-2.06-.94L8.5 2.5l-.94 2.06-2.06.94zm10 10l.94 2.06.94-2.06 2.06-.94-2.06-.94-.94-2.06-.94 2.06-2.06.94z\"/><path d=\"M17.41 7.96l-1.37-1.37c-.4-.4-.92-.59-1.43-.59-.52 0-1.04.2-1.43.59L10.3 9.45l-7.72 7.72c-.78.78-.78 2.05 0 2.83L4 21.41c.39.39.9.59 1.41.59.51 0 1.02-.2 1.41-.59l7.78-7.78 2.81-2.81c.8-.78.8-2.07 0-2.86zM5.41 20L4 18.59l7.72-7.72 1.47 1.35L5.41 20z\"/>\n",
              "  </svg>\n",
              "      </button>\n",
              "      \n",
              "  <style>\n",
              "    .colab-df-container {\n",
              "      display:flex;\n",
              "      flex-wrap:wrap;\n",
              "      gap: 12px;\n",
              "    }\n",
              "\n",
              "    .colab-df-convert {\n",
              "      background-color: #E8F0FE;\n",
              "      border: none;\n",
              "      border-radius: 50%;\n",
              "      cursor: pointer;\n",
              "      display: none;\n",
              "      fill: #1967D2;\n",
              "      height: 32px;\n",
              "      padding: 0 0 0 0;\n",
              "      width: 32px;\n",
              "    }\n",
              "\n",
              "    .colab-df-convert:hover {\n",
              "      background-color: #E2EBFA;\n",
              "      box-shadow: 0px 1px 2px rgba(60, 64, 67, 0.3), 0px 1px 3px 1px rgba(60, 64, 67, 0.15);\n",
              "      fill: #174EA6;\n",
              "    }\n",
              "\n",
              "    [theme=dark] .colab-df-convert {\n",
              "      background-color: #3B4455;\n",
              "      fill: #D2E3FC;\n",
              "    }\n",
              "\n",
              "    [theme=dark] .colab-df-convert:hover {\n",
              "      background-color: #434B5C;\n",
              "      box-shadow: 0px 1px 3px 1px rgba(0, 0, 0, 0.15);\n",
              "      filter: drop-shadow(0px 1px 2px rgba(0, 0, 0, 0.3));\n",
              "      fill: #FFFFFF;\n",
              "    }\n",
              "  </style>\n",
              "\n",
              "      <script>\n",
              "        const buttonEl =\n",
              "          document.querySelector('#df-36e5ee96-3bdf-45f6-b352-8e7829ba7caa button.colab-df-convert');\n",
              "        buttonEl.style.display =\n",
              "          google.colab.kernel.accessAllowed ? 'block' : 'none';\n",
              "\n",
              "        async function convertToInteractive(key) {\n",
              "          const element = document.querySelector('#df-36e5ee96-3bdf-45f6-b352-8e7829ba7caa');\n",
              "          const dataTable =\n",
              "            await google.colab.kernel.invokeFunction('convertToInteractive',\n",
              "                                                     [key], {});\n",
              "          if (!dataTable) return;\n",
              "\n",
              "          const docLinkHtml = 'Like what you see? Visit the ' +\n",
              "            '<a target=\"_blank\" href=https://colab.research.google.com/notebooks/data_table.ipynb>data table notebook</a>'\n",
              "            + ' to learn more about interactive tables.';\n",
              "          element.innerHTML = '';\n",
              "          dataTable['output_type'] = 'display_data';\n",
              "          await google.colab.output.renderOutput(dataTable, element);\n",
              "          const docLink = document.createElement('div');\n",
              "          docLink.innerHTML = docLinkHtml;\n",
              "          element.appendChild(docLink);\n",
              "        }\n",
              "      </script>\n",
              "    </div>\n",
              "  </div>\n",
              "  "
            ]
          },
          "metadata": {},
          "execution_count": 33
        }
      ]
    },
    {
      "cell_type": "markdown",
      "source": [
        "Можно выделить странные значения число детей -1 и отрицательное количество дней в days_employed. Вообще, число дней трудового стажа выглядит как вычисляемое поле. Т.е. независимо от метода сбора данных, вряд ли откуда-то напрямую будет поступать точное число дней - скорее, это какая-нибудь сумма разностей между датами. Отрицательные значения говорят о том, что эта сумма вычислена неправильно, откуда появляются подозрения, что весь признак шумовой \n",
        "\n",
        "Наиболее критичным это может оказаться для моделей вроде knn, в которых метрика вычисляется на основе всех признаков или случайного леса, в котором принято строить глубокие деревья; регрессия же просто не будет давать признаку большой вес, а в бустингах неглубокие деревья до него не дойдут\n",
        "\n",
        "Посмотрим, сколько вообще отрицательных значений в этих признаках"
      ],
      "metadata": {
        "id": "qdieFoDrcltc"
      }
    },
    {
      "cell_type": "code",
      "source": [
        "data[(data[['days_employed']] < 0).all(1)].shape"
      ],
      "metadata": {
        "colab": {
          "base_uri": "https://localhost:8080/"
        },
        "id": "5MOFMh1BgflO",
        "outputId": "cd7a8bac-284e-4290-d152-5440cd5b8977"
      },
      "execution_count": null,
      "outputs": [
        {
          "output_type": "execute_result",
          "data": {
            "text/plain": [
              "(18080, 22)"
            ]
          },
          "metadata": {},
          "execution_count": 34
        }
      ]
    },
    {
      "cell_type": "code",
      "source": [
        "data[(data[['children']] < 0).all(1)].shape"
      ],
      "metadata": {
        "colab": {
          "base_uri": "https://localhost:8080/"
        },
        "id": "Xbx14-tthBqW",
        "outputId": "a8ec88f5-d36f-4959-93a3-e766f2bb9136"
      },
      "execution_count": null,
      "outputs": [
        {
          "output_type": "execute_result",
          "data": {
            "text/plain": [
              "(47, 22)"
            ]
          },
          "metadata": {},
          "execution_count": 35
        }
      ]
    },
    {
      "cell_type": "markdown",
      "source": [
        "Видим, что в children отрицательных значений не очень много, но очень много их в days_employed. Этот, признак можно удалить. С children всё зависит от масштаба ошибки - вычисления это или люди так заполняли или -1 это вообще флаг, который в анкете что-то означал. Но т.к. строк мало и сильно мы ничего не испортим, можем просто удалить отриц. строки"
      ],
      "metadata": {
        "id": "p6Z0W6pohXXG"
      }
    },
    {
      "cell_type": "code",
      "source": [
        "data = data[((data['children'] > 0) | (data['children'] == 0))]\n",
        "data.shape"
      ],
      "metadata": {
        "colab": {
          "base_uri": "https://localhost:8080/"
        },
        "id": "f0J5iPlYcdCx",
        "outputId": "d13287a3-266f-4bd1-8c95-3cc04b13f75f"
      },
      "execution_count": null,
      "outputs": [
        {
          "output_type": "execute_result",
          "data": {
            "text/plain": [
              "(21478, 22)"
            ]
          },
          "metadata": {},
          "execution_count": 36
        }
      ]
    },
    {
      "cell_type": "code",
      "source": [
        "del data['days_employed']"
      ],
      "metadata": {
        "id": "-MHLI-f71D_C"
      },
      "execution_count": null,
      "outputs": []
    },
    {
      "cell_type": "markdown",
      "source": [
        "Посмотрим на финальную версию датасета"
      ],
      "metadata": {
        "id": "uZ_m2qgtBBje"
      }
    },
    {
      "cell_type": "code",
      "source": [
        "data.head()"
      ],
      "metadata": {
        "colab": {
          "base_uri": "https://localhost:8080/",
          "height": 386
        },
        "id": "PNG9PbGJBEqu",
        "outputId": "8d7681d1-6ec7-463d-8eb4-10ca9c1f7676"
      },
      "execution_count": null,
      "outputs": [
        {
          "output_type": "execute_result",
          "data": {
            "text/plain": [
              "   children  dob_years education     family_status gender income_type  debt  \\\n",
              "0         1         42   высокий   женат / замужем      F   сотрудник     0   \n",
              "1         1         36   средний   женат / замужем      F   сотрудник     0   \n",
              "2         0         33   средний   женат / замужем      M   сотрудник     0   \n",
              "3         3         32   средний   женат / замужем      M   сотрудник     0   \n",
              "4         0         53   средний  гражданский брак      F   пенсионер     0   \n",
              "\n",
              "   total_income  жильё  автомобиль  ...  свадьба  операция  семья  \\\n",
              "0        253875      1           0  ...        0         0      0   \n",
              "1        112080      0           1  ...        0         0      0   \n",
              "2        145885      1           0  ...        0         0      0   \n",
              "3        267628      0           0  ...        0         0      0   \n",
              "4        158616      0           0  ...        1         0      0   \n",
              "\n",
              "   недвижимость  строительство  сделка  ремонт  days_employed_cat  \\\n",
              "0             0              0       0       0               мало   \n",
              "1             0              0       0       0               мало   \n",
              "2             0              0       0       0               мало   \n",
              "3             0              0       0       0               мало   \n",
              "4             0              0       0       0              много   \n",
              "\n",
              "  dob_years_cat total_income_cat  \n",
              "0        средне            много  \n",
              "1        средне            много  \n",
              "2        средне            много  \n",
              "3        средне            много  \n",
              "4        средне            много  \n",
              "\n",
              "[5 rows x 21 columns]"
            ],
            "text/html": [
              "\n",
              "  <div id=\"df-2d3b36e0-3dc3-4424-a700-75c300972824\">\n",
              "    <div class=\"colab-df-container\">\n",
              "      <div>\n",
              "<style scoped>\n",
              "    .dataframe tbody tr th:only-of-type {\n",
              "        vertical-align: middle;\n",
              "    }\n",
              "\n",
              "    .dataframe tbody tr th {\n",
              "        vertical-align: top;\n",
              "    }\n",
              "\n",
              "    .dataframe thead th {\n",
              "        text-align: right;\n",
              "    }\n",
              "</style>\n",
              "<table border=\"1\" class=\"dataframe\">\n",
              "  <thead>\n",
              "    <tr style=\"text-align: right;\">\n",
              "      <th></th>\n",
              "      <th>children</th>\n",
              "      <th>dob_years</th>\n",
              "      <th>education</th>\n",
              "      <th>family_status</th>\n",
              "      <th>gender</th>\n",
              "      <th>income_type</th>\n",
              "      <th>debt</th>\n",
              "      <th>total_income</th>\n",
              "      <th>жильё</th>\n",
              "      <th>автомобиль</th>\n",
              "      <th>...</th>\n",
              "      <th>свадьба</th>\n",
              "      <th>операция</th>\n",
              "      <th>семья</th>\n",
              "      <th>недвижимость</th>\n",
              "      <th>строительство</th>\n",
              "      <th>сделка</th>\n",
              "      <th>ремонт</th>\n",
              "      <th>days_employed_cat</th>\n",
              "      <th>dob_years_cat</th>\n",
              "      <th>total_income_cat</th>\n",
              "    </tr>\n",
              "  </thead>\n",
              "  <tbody>\n",
              "    <tr>\n",
              "      <th>0</th>\n",
              "      <td>1</td>\n",
              "      <td>42</td>\n",
              "      <td>высокий</td>\n",
              "      <td>женат / замужем</td>\n",
              "      <td>F</td>\n",
              "      <td>сотрудник</td>\n",
              "      <td>0</td>\n",
              "      <td>253875</td>\n",
              "      <td>1</td>\n",
              "      <td>0</td>\n",
              "      <td>...</td>\n",
              "      <td>0</td>\n",
              "      <td>0</td>\n",
              "      <td>0</td>\n",
              "      <td>0</td>\n",
              "      <td>0</td>\n",
              "      <td>0</td>\n",
              "      <td>0</td>\n",
              "      <td>мало</td>\n",
              "      <td>средне</td>\n",
              "      <td>много</td>\n",
              "    </tr>\n",
              "    <tr>\n",
              "      <th>1</th>\n",
              "      <td>1</td>\n",
              "      <td>36</td>\n",
              "      <td>средний</td>\n",
              "      <td>женат / замужем</td>\n",
              "      <td>F</td>\n",
              "      <td>сотрудник</td>\n",
              "      <td>0</td>\n",
              "      <td>112080</td>\n",
              "      <td>0</td>\n",
              "      <td>1</td>\n",
              "      <td>...</td>\n",
              "      <td>0</td>\n",
              "      <td>0</td>\n",
              "      <td>0</td>\n",
              "      <td>0</td>\n",
              "      <td>0</td>\n",
              "      <td>0</td>\n",
              "      <td>0</td>\n",
              "      <td>мало</td>\n",
              "      <td>средне</td>\n",
              "      <td>много</td>\n",
              "    </tr>\n",
              "    <tr>\n",
              "      <th>2</th>\n",
              "      <td>0</td>\n",
              "      <td>33</td>\n",
              "      <td>средний</td>\n",
              "      <td>женат / замужем</td>\n",
              "      <td>M</td>\n",
              "      <td>сотрудник</td>\n",
              "      <td>0</td>\n",
              "      <td>145885</td>\n",
              "      <td>1</td>\n",
              "      <td>0</td>\n",
              "      <td>...</td>\n",
              "      <td>0</td>\n",
              "      <td>0</td>\n",
              "      <td>0</td>\n",
              "      <td>0</td>\n",
              "      <td>0</td>\n",
              "      <td>0</td>\n",
              "      <td>0</td>\n",
              "      <td>мало</td>\n",
              "      <td>средне</td>\n",
              "      <td>много</td>\n",
              "    </tr>\n",
              "    <tr>\n",
              "      <th>3</th>\n",
              "      <td>3</td>\n",
              "      <td>32</td>\n",
              "      <td>средний</td>\n",
              "      <td>женат / замужем</td>\n",
              "      <td>M</td>\n",
              "      <td>сотрудник</td>\n",
              "      <td>0</td>\n",
              "      <td>267628</td>\n",
              "      <td>0</td>\n",
              "      <td>0</td>\n",
              "      <td>...</td>\n",
              "      <td>0</td>\n",
              "      <td>0</td>\n",
              "      <td>0</td>\n",
              "      <td>0</td>\n",
              "      <td>0</td>\n",
              "      <td>0</td>\n",
              "      <td>0</td>\n",
              "      <td>мало</td>\n",
              "      <td>средне</td>\n",
              "      <td>много</td>\n",
              "    </tr>\n",
              "    <tr>\n",
              "      <th>4</th>\n",
              "      <td>0</td>\n",
              "      <td>53</td>\n",
              "      <td>средний</td>\n",
              "      <td>гражданский брак</td>\n",
              "      <td>F</td>\n",
              "      <td>пенсионер</td>\n",
              "      <td>0</td>\n",
              "      <td>158616</td>\n",
              "      <td>0</td>\n",
              "      <td>0</td>\n",
              "      <td>...</td>\n",
              "      <td>1</td>\n",
              "      <td>0</td>\n",
              "      <td>0</td>\n",
              "      <td>0</td>\n",
              "      <td>0</td>\n",
              "      <td>0</td>\n",
              "      <td>0</td>\n",
              "      <td>много</td>\n",
              "      <td>средне</td>\n",
              "      <td>много</td>\n",
              "    </tr>\n",
              "  </tbody>\n",
              "</table>\n",
              "<p>5 rows × 21 columns</p>\n",
              "</div>\n",
              "      <button class=\"colab-df-convert\" onclick=\"convertToInteractive('df-2d3b36e0-3dc3-4424-a700-75c300972824')\"\n",
              "              title=\"Convert this dataframe to an interactive table.\"\n",
              "              style=\"display:none;\">\n",
              "        \n",
              "  <svg xmlns=\"http://www.w3.org/2000/svg\" height=\"24px\"viewBox=\"0 0 24 24\"\n",
              "       width=\"24px\">\n",
              "    <path d=\"M0 0h24v24H0V0z\" fill=\"none\"/>\n",
              "    <path d=\"M18.56 5.44l.94 2.06.94-2.06 2.06-.94-2.06-.94-.94-2.06-.94 2.06-2.06.94zm-11 1L8.5 8.5l.94-2.06 2.06-.94-2.06-.94L8.5 2.5l-.94 2.06-2.06.94zm10 10l.94 2.06.94-2.06 2.06-.94-2.06-.94-.94-2.06-.94 2.06-2.06.94z\"/><path d=\"M17.41 7.96l-1.37-1.37c-.4-.4-.92-.59-1.43-.59-.52 0-1.04.2-1.43.59L10.3 9.45l-7.72 7.72c-.78.78-.78 2.05 0 2.83L4 21.41c.39.39.9.59 1.41.59.51 0 1.02-.2 1.41-.59l7.78-7.78 2.81-2.81c.8-.78.8-2.07 0-2.86zM5.41 20L4 18.59l7.72-7.72 1.47 1.35L5.41 20z\"/>\n",
              "  </svg>\n",
              "      </button>\n",
              "      \n",
              "  <style>\n",
              "    .colab-df-container {\n",
              "      display:flex;\n",
              "      flex-wrap:wrap;\n",
              "      gap: 12px;\n",
              "    }\n",
              "\n",
              "    .colab-df-convert {\n",
              "      background-color: #E8F0FE;\n",
              "      border: none;\n",
              "      border-radius: 50%;\n",
              "      cursor: pointer;\n",
              "      display: none;\n",
              "      fill: #1967D2;\n",
              "      height: 32px;\n",
              "      padding: 0 0 0 0;\n",
              "      width: 32px;\n",
              "    }\n",
              "\n",
              "    .colab-df-convert:hover {\n",
              "      background-color: #E2EBFA;\n",
              "      box-shadow: 0px 1px 2px rgba(60, 64, 67, 0.3), 0px 1px 3px 1px rgba(60, 64, 67, 0.15);\n",
              "      fill: #174EA6;\n",
              "    }\n",
              "\n",
              "    [theme=dark] .colab-df-convert {\n",
              "      background-color: #3B4455;\n",
              "      fill: #D2E3FC;\n",
              "    }\n",
              "\n",
              "    [theme=dark] .colab-df-convert:hover {\n",
              "      background-color: #434B5C;\n",
              "      box-shadow: 0px 1px 3px 1px rgba(0, 0, 0, 0.15);\n",
              "      filter: drop-shadow(0px 1px 2px rgba(0, 0, 0, 0.3));\n",
              "      fill: #FFFFFF;\n",
              "    }\n",
              "  </style>\n",
              "\n",
              "      <script>\n",
              "        const buttonEl =\n",
              "          document.querySelector('#df-2d3b36e0-3dc3-4424-a700-75c300972824 button.colab-df-convert');\n",
              "        buttonEl.style.display =\n",
              "          google.colab.kernel.accessAllowed ? 'block' : 'none';\n",
              "\n",
              "        async function convertToInteractive(key) {\n",
              "          const element = document.querySelector('#df-2d3b36e0-3dc3-4424-a700-75c300972824');\n",
              "          const dataTable =\n",
              "            await google.colab.kernel.invokeFunction('convertToInteractive',\n",
              "                                                     [key], {});\n",
              "          if (!dataTable) return;\n",
              "\n",
              "          const docLinkHtml = 'Like what you see? Visit the ' +\n",
              "            '<a target=\"_blank\" href=https://colab.research.google.com/notebooks/data_table.ipynb>data table notebook</a>'\n",
              "            + ' to learn more about interactive tables.';\n",
              "          element.innerHTML = '';\n",
              "          dataTable['output_type'] = 'display_data';\n",
              "          await google.colab.output.renderOutput(dataTable, element);\n",
              "          const docLink = document.createElement('div');\n",
              "          docLink.innerHTML = docLinkHtml;\n",
              "          element.appendChild(docLink);\n",
              "        }\n",
              "      </script>\n",
              "    </div>\n",
              "  </div>\n",
              "  "
            ]
          },
          "metadata": {},
          "execution_count": 38
        }
      ]
    },
    {
      "cell_type": "markdown",
      "source": [
        "# Анализ влияния различных параметров на target"
      ],
      "metadata": {
        "id": "hBb73Bh9yrJw"
      }
    },
    {
      "cell_type": "markdown",
      "source": [
        "## Связь между наличием детей/возвратом кредита в срок"
      ],
      "metadata": {
        "id": "0CPyYkYUAxKc"
      }
    },
    {
      "cell_type": "markdown",
      "source": [
        "Нам понадобится бинарный признак, показывающий, есть ли дети."
      ],
      "metadata": {
        "id": "2akKecvbBSB1"
      }
    },
    {
      "cell_type": "code",
      "source": [
        "data['children_binary'] = data['children'].map(lambda x: 1 if x > 0 else 0)\n",
        "data['children_binary']"
      ],
      "metadata": {
        "colab": {
          "base_uri": "https://localhost:8080/"
        },
        "id": "aAAmrhhNAn4e",
        "outputId": "94ec0057-ea57-4e18-ae48-ef35acacceff"
      },
      "execution_count": null,
      "outputs": [
        {
          "output_type": "stream",
          "name": "stderr",
          "text": [
            "\n",
            "A value is trying to be set on a copy of a slice from a DataFrame.\n",
            "Try using .loc[row_indexer,col_indexer] = value instead\n",
            "\n",
            "See the caveats in the documentation: https://pandas.pydata.org/pandas-docs/stable/user_guide/indexing.html#returning-a-view-versus-a-copy\n"
          ]
        },
        {
          "output_type": "execute_result",
          "data": {
            "text/plain": [
              "0        1\n",
              "1        1\n",
              "2        0\n",
              "3        1\n",
              "4        0\n",
              "        ..\n",
              "21520    1\n",
              "21521    0\n",
              "21522    1\n",
              "21523    1\n",
              "21524    1\n",
              "Name: children_binary, Length: 21478, dtype: int64"
            ]
          },
          "metadata": {},
          "execution_count": 39
        }
      ]
    },
    {
      "cell_type": "markdown",
      "source": [
        "Таким образом, у нас есть два бинарных признака. В терминах статистики нам нужно сравнить две выборки target в разрезе children_binary. Пусть каждое значение target является реализацией биномиальной СВ с n=1 и неизвестной вероятностью успеха p\n",
        "\n",
        "Сформируем выборки\n"
      ],
      "metadata": {
        "id": "2gu_yG2gCYPw"
      }
    },
    {
      "cell_type": "code",
      "source": [
        "x = np.array(data[data['children_binary'] == 0]['debt'])\n",
        "x"
      ],
      "metadata": {
        "colab": {
          "base_uri": "https://localhost:8080/"
        },
        "id": "GPaC1tLMRCp6",
        "outputId": "0c22e02a-4b7f-4cb7-90e4-0006707da1e5"
      },
      "execution_count": null,
      "outputs": [
        {
          "output_type": "execute_result",
          "data": {
            "text/plain": [
              "array([0, 0, 0, ..., 0, 0, 0])"
            ]
          },
          "metadata": {},
          "execution_count": 40
        }
      ]
    },
    {
      "cell_type": "code",
      "source": [
        "y = np.array(data[data['children_binary'] == 1]['debt'])\n",
        "y"
      ],
      "metadata": {
        "colab": {
          "base_uri": "https://localhost:8080/"
        },
        "id": "uAv5GcjyRNSo",
        "outputId": "d716d2ef-ebe7-49e4-a8e8-3e6a673a5924"
      },
      "execution_count": null,
      "outputs": [
        {
          "output_type": "execute_result",
          "data": {
            "text/plain": [
              "array([0, 0, 0, ..., 1, 1, 0])"
            ]
          },
          "metadata": {},
          "execution_count": 41
        }
      ]
    },
    {
      "cell_type": "markdown",
      "source": [
        "Будем использовать точный тест Фишера. Составим таблицу 2х2"
      ],
      "metadata": {
        "id": "JsYnpKenYsKN"
      }
    },
    {
      "cell_type": "code",
      "source": [
        "data_ = [[len(x[x == 0]), len(x[x == 1])],\n",
        "        [len(y[y == 0]), len(y[y == 1])]]\n",
        "data_"
      ],
      "metadata": {
        "colab": {
          "base_uri": "https://localhost:8080/"
        },
        "id": "3ENNVqQwW1S7",
        "outputId": "0a396b68-d47a-434a-e89e-6dd6c996f604"
      },
      "execution_count": null,
      "outputs": [
        {
          "output_type": "execute_result",
          "data": {
            "text/plain": [
              "[[13086, 1063], [6652, 677]]"
            ]
          },
          "metadata": {},
          "execution_count": 42
        }
      ]
    },
    {
      "cell_type": "markdown",
      "source": [
        "Применим тест"
      ],
      "metadata": {
        "id": "96yJ7oBnZMec"
      }
    },
    {
      "cell_type": "code",
      "source": [
        "from scipy.stats import  fisher_exact\n",
        "\n",
        "print(fisher_exact(data_))"
      ],
      "metadata": {
        "colab": {
          "base_uri": "https://localhost:8080/"
        },
        "id": "to9ec6dwU5Zr",
        "outputId": "a0ebce6f-72ca-4c8c-f6b6-80077c4faee7"
      },
      "execution_count": null,
      "outputs": [
        {
          "output_type": "stream",
          "name": "stdout",
          "text": [
            "(1.2528817396390592, 1.3379965823263666e-05)\n"
          ]
        }
      ]
    },
    {
      "cell_type": "markdown",
      "source": [
        "p-value - второе возвращаемое значение. Видим, что мы получили какую-то очень экстремальную таблицу для ситуации, в которой переменные независимы. Глазами это не очень очевидно (соотношение градаций target для первой группы (нет детей) составляет х12, а для второй - х9), но в принципе, учитывая, что мы имеем 20 000 строк, возможно, проценты должны быть гораздо ближе к друг другу при независимости\n",
        "\n",
        "Пусть уровень значимости равен 0.05, тогда принимаем гипотезу о том, что переменные связаны, а именно, что те, кто имеет детей, чаще оказываются плохими клиентами. Проверялась двусторонняя гипотеза, но по выборке мы видим, в каком хвосте находится p-value\n",
        "\n"
      ],
      "metadata": {
        "id": "vrACXs-kZgEh"
      }
    },
    {
      "cell_type": "markdown",
      "source": [
        "## Связь между семейным положением/возвратом кредита в срок"
      ],
      "metadata": {
        "id": "IgmOqSBRfNHZ"
      }
    },
    {
      "cell_type": "markdown",
      "source": [
        "Посмотрим ещё раз на статусы"
      ],
      "metadata": {
        "id": "5Iq3aezhfueW"
      }
    },
    {
      "cell_type": "code",
      "source": [
        "data['family_status'].unique()"
      ],
      "metadata": {
        "colab": {
          "base_uri": "https://localhost:8080/"
        },
        "id": "l-awVUxvfTMZ",
        "outputId": "8e96ba72-410c-484e-ce85-1e210e48e295"
      },
      "execution_count": null,
      "outputs": [
        {
          "output_type": "execute_result",
          "data": {
            "text/plain": [
              "array(['женат / замужем', 'гражданский брак', 'вдовец / вдовый',\n",
              "       'в развод', 'не женат / не замужем'], dtype=object)"
            ]
          },
          "metadata": {},
          "execution_count": 44
        }
      ]
    },
    {
      "cell_type": "markdown",
      "source": [
        "Сами слова немного поплыли из-за лемматизации, но это не страшно"
      ],
      "metadata": {
        "id": "Fe4og9ECf2EI"
      }
    },
    {
      "cell_type": "markdown",
      "source": [
        "Тест Фишера работает не только для бинарных переменных, но и в целом для категориальных, поэтому можем проделать почти аналогичные действия"
      ],
      "metadata": {
        "id": "y-px3WQShHj6"
      }
    },
    {
      "cell_type": "code",
      "source": [
        "x1 = np.array(data[data['family_status'] == 'женат / замужем']['debt'])\n",
        "x2 = np.array(data[data['family_status'] == 'гражданский брак']['debt'])\n",
        "x3 = np.array(data[data['family_status'] == 'вдовец / вдовый']['debt'])\n",
        "x4 = np.array(data[data['family_status'] == 'в развод']['debt'])\n",
        "x5 = np.array(data[data['family_status'] == 'не женат / не замужем']['debt'])"
      ],
      "metadata": {
        "id": "hkKiyp5KiM07"
      },
      "execution_count": null,
      "outputs": []
    },
    {
      "cell_type": "code",
      "source": [
        "data_2 = [[len(x1[x1 == 0]), len(x1[x1 == 1])],\n",
        "        [len(x2[x2 == 0]), len(x2[x2 == 1])],\n",
        "        [len(x3[x3 == 0]), len(x3[x3 == 1])],\n",
        "        [len(x4[x4 == 0]), len(x4[x4 == 1])],\n",
        "        [len(x5[x5 == 0]), len(x5[x5 == 1])]]\n",
        "data_2"
      ],
      "metadata": {
        "colab": {
          "base_uri": "https://localhost:8080/"
        },
        "id": "GA1vhy3RfTVf",
        "outputId": "1f5bbd8b-4d70-40bc-c1a4-845ebefc56c1"
      },
      "execution_count": null,
      "outputs": [
        {
          "output_type": "execute_result",
          "data": {
            "text/plain": [
              "[[11421, 930], [3784, 388], [893, 63], [1106, 85], [2534, 274]]"
            ]
          },
          "metadata": {},
          "execution_count": 46
        }
      ]
    },
    {
      "cell_type": "markdown",
      "source": [
        "К несчастью, реализация scipy поддерживает только таблицы 2х2, поэтому в качестве простой проверки связи между семейным положением и возвратом кредита в срок найдем коэффициент корреляции пирсона. "
      ],
      "metadata": {
        "id": "BSBwHT5PWwdZ"
      }
    },
    {
      "cell_type": "code",
      "source": [
        "data['family_status_codes'] = data.family_status.astype('category').cat.codes\n",
        "pearsonr(data['family_status_codes'], data['debt'])"
      ],
      "metadata": {
        "id": "i1ORDRKdPksu",
        "outputId": "5c9057a1-c2c9-4a0e-f937-515d610f5977",
        "colab": {
          "base_uri": "https://localhost:8080/"
        }
      },
      "execution_count": null,
      "outputs": [
        {
          "output_type": "stream",
          "name": "stderr",
          "text": [
            "\n",
            "A value is trying to be set on a copy of a slice from a DataFrame.\n",
            "Try using .loc[row_indexer,col_indexer] = value instead\n",
            "\n",
            "See the caveats in the documentation: https://pandas.pydata.org/pandas-docs/stable/user_guide/indexing.html#returning-a-view-versus-a-copy\n"
          ]
        },
        {
          "output_type": "execute_result",
          "data": {
            "text/plain": [
              "(0.010764232652926744, 0.11468225005941074)"
            ]
          },
          "metadata": {},
          "execution_count": 49
        }
      ]
    },
    {
      "cell_type": "markdown",
      "source": [
        "Коэффициент корреляции Пирсона получился менее 0.3, значит связь признака и таргета слабая. Также, поскольку p-значение получилось не меньше α = 0.05, можно сделать вывод, что корреляция не является статистически значимой."
      ],
      "metadata": {
        "id": "sP5UqQata8zL"
      }
    },
    {
      "cell_type": "markdown",
      "source": [
        "# Влияние цели кредита на возвращение его в срок"
      ],
      "metadata": {
        "id": "4NmbeKdFESbp"
      }
    },
    {
      "cell_type": "markdown",
      "source": [
        "Цели для которых был взят кредит:"
      ],
      "metadata": {
        "id": "l9v-IR_i6RDL"
      }
    },
    {
      "cell_type": "code",
      "source": [
        "unique_vals_sorted"
      ],
      "metadata": {
        "id": "lIp2WE526Xd2",
        "outputId": "843f770d-8bd1-4a15-bf74-30e9f340dd98",
        "colab": {
          "base_uri": "https://localhost:8080/"
        }
      },
      "execution_count": null,
      "outputs": [
        {
          "output_type": "execute_result",
          "data": {
            "text/plain": [
              "['жильё',\n",
              " 'автомобиль',\n",
              " 'образование',\n",
              " 'свадьба',\n",
              " 'операция',\n",
              " 'семья',\n",
              " 'недвижимость',\n",
              " 'строительство',\n",
              " 'сделка',\n",
              " 'ремонт']"
            ]
          },
          "metadata": {},
          "execution_count": 50
        }
      ]
    },
    {
      "cell_type": "code",
      "source": [
        "coef_cor = dict()\n",
        "for purpose in unique_vals_sorted:\n",
        "  coef_cor[purpose] = pearsonr(data[purpose], data['debt'])\n",
        "coef_cor"
      ],
      "metadata": {
        "id": "NTq9ubT0EMLh",
        "outputId": "5dff4dd5-0c70-48f1-f258-5c1dc411967f",
        "colab": {
          "base_uri": "https://localhost:8080/"
        }
      },
      "execution_count": null,
      "outputs": [
        {
          "output_type": "execute_result",
          "data": {
            "text/plain": [
              "{'жильё': (-0.022590807832226438, 0.0009296410884686459),\n",
              " 'автомобиль': (0.022729075191273648, 0.0008645147825667388),\n",
              " 'образование': (0.019690862891407597, 0.003903190857794004),\n",
              " 'свадьба': (-0.0022192554564925736, 0.7450133104535211),\n",
              " 'операция': (-0.003072952318333267, 0.6524742977188062),\n",
              " 'семья': (-0.006948925805210312, 0.3085144485958217),\n",
              " 'недвижимость': (-0.01514884255862542, 0.026410774298203425),\n",
              " 'строительство': (-0.0048710213414412, 0.4753328609643479),\n",
              " 'сделка': (0.02049184585685991, 0.0026707141237685616),\n",
              " 'ремонт': (-0.01488180963794546, 0.029184987970128355)}"
            ]
          },
          "metadata": {},
          "execution_count": 54
        }
      ]
    },
    {
      "cell_type": "markdown",
      "source": [
        "Судя по полученным коэффициентам Пирсона, цель кредита не влияет на возвращение его в срок, тк ни в одном случае коэффициент не превысил 0.3\n"
      ],
      "metadata": {
        "id": "EhaS4uUtNlBv"
      }
    }
  ]
}